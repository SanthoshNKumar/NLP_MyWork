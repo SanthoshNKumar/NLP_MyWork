{
 "cells": [
  {
   "cell_type": "code",
   "execution_count": 1,
   "metadata": {},
   "outputs": [
    {
     "name": "stdout",
     "output_type": "stream",
     "text": [
      "rock\n",
      "good\n",
      "best\n",
      "car\n",
      "men\n",
      "run\n",
      "sad\n",
      "fancy\n",
      "eat\n"
     ]
    }
   ],
   "source": [
    "# Lemmatization\n",
    "import nltk\n",
    "\n",
    "print(nltk.stem.WordNetLemmatizer().lemmatize(\"rocks\"))\n",
    "print(nltk.stem.WordNetLemmatizer().lemmatize(\"better\", pos = 'a'))\n",
    "print(nltk.stem.WordNetLemmatizer().lemmatize('best',pos = 'a'))\n",
    "print(nltk.stem.WordNetLemmatizer().lemmatize('cars',pos = 'n'))\n",
    "print(nltk.stem.WordNetLemmatizer().lemmatize('men',pos = 'n'))\n",
    "print(nltk.stem.WordNetLemmatizer().lemmatize('running',pos = 'v'))\n",
    "print(nltk.stem.WordNetLemmatizer().lemmatize('saddest',pos = 'a'))\n",
    "print(nltk.stem.WordNetLemmatizer().lemmatize('fancier',pos = 'a'))\n",
    "print(nltk.stem.WordNetLemmatizer().lemmatize('ate',pos = 'v'))"
   ]
  },
  {
   "cell_type": "code",
   "execution_count": null,
   "metadata": {},
   "outputs": [],
   "source": []
  }
 ],
 "metadata": {
  "kernelspec": {
   "display_name": "Python 3",
   "language": "python",
   "name": "python3"
  },
  "language_info": {
   "codemirror_mode": {
    "name": "ipython",
    "version": 3
   },
   "file_extension": ".py",
   "mimetype": "text/x-python",
   "name": "python",
   "nbconvert_exporter": "python",
   "pygments_lexer": "ipython3",
   "version": "3.7.4"
  }
 },
 "nbformat": 4,
 "nbformat_minor": 2
}
