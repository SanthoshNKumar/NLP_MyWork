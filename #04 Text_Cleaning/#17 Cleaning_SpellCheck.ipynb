{
 "cells": [
  {
   "cell_type": "code",
   "execution_count": 7,
   "metadata": {},
   "outputs": [
    {
     "name": "stdout",
     "output_type": "stream",
     "text": [
      "autocorrect.spell is deprecated, use autocorrect.Speller instead\n",
      "autocorrect.spell is deprecated, use autocorrect.Speller instead\n",
      "autocorrect.spell is deprecated, use autocorrect.Speller instead\n",
      "autocorrect.spell is deprecated, use autocorrect.Speller instead\n",
      "autocorrect.spell is deprecated, use autocorrect.Speller instead\n",
      "autocorrect.spell is deprecated, use autocorrect.Speller instead\n",
      "['This', 'is', 'a', 'world', 'of', 'hope']\n"
     ]
    }
   ],
   "source": [
    "from nltk import word_tokenize\n",
    "\n",
    "from autocorrect import spell\n",
    "\n",
    "\n",
    "text = \"This is a wrld of hope\"\n",
    "spells = [spell(w) for w in (word_tokenize(text))]\n",
    "print (spells)"
   ]
  }
 ],
 "metadata": {
  "kernelspec": {
   "display_name": "Python 3",
   "language": "python",
   "name": "python3"
  },
  "language_info": {
   "codemirror_mode": {
    "name": "ipython",
    "version": 3
   },
   "file_extension": ".py",
   "mimetype": "text/x-python",
   "name": "python",
   "nbconvert_exporter": "python",
   "pygments_lexer": "ipython3",
   "version": "3.7.4"
  }
 },
 "nbformat": 4,
 "nbformat_minor": 2
}
