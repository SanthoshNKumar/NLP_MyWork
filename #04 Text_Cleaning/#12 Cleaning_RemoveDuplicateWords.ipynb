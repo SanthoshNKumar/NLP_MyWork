{
 "cells": [
  {
   "cell_type": "code",
   "execution_count": 2,
   "metadata": {},
   "outputs": [
    {
     "data": {
      "text/plain": [
       "['john',\n",
       " 'likes',\n",
       " 'to',\n",
       " 'watch',\n",
       " 'movies',\n",
       " 'mary',\n",
       " 'too',\n",
       " 'also',\n",
       " 'football',\n",
       " 'games']"
      ]
     },
     "execution_count": 2,
     "metadata": {},
     "output_type": "execute_result"
    }
   ],
   "source": [
    "import nltk\n",
    "import numpy as np\n",
    "corpus = [\"John likes to watch movies. Mary likes movies too.\",\n",
    "          \"John also likes to watch football games.\",]\n",
    "\n",
    "vocab = []\n",
    "\n",
    "# Generate  Vocabuary \n",
    "for sentence in corpus:\n",
    "    w = nltk.word_tokenize(sentence)\n",
    "    vocab.extend(w)\n",
    "\n",
    "# Remove the Punctuatin\n",
    "from string import punctuation\n",
    "vocab = [v for v in vocab if v not in punctuation]\n",
    "\n",
    "# lowercase conversion\n",
    "vocab = [v.lower() for v in vocab]\n",
    "\n",
    "# Remove Duplicates\n",
    "vocab = list(dict.fromkeys(vocab))\n",
    "\n",
    "vocab"
   ]
  },
  {
   "cell_type": "code",
   "execution_count": null,
   "metadata": {},
   "outputs": [],
   "source": []
  }
 ],
 "metadata": {
  "kernelspec": {
   "display_name": "Python 3",
   "language": "python",
   "name": "python3"
  },
  "language_info": {
   "codemirror_mode": {
    "name": "ipython",
    "version": 3
   },
   "file_extension": ".py",
   "mimetype": "text/x-python",
   "name": "python",
   "nbconvert_exporter": "python",
   "pygments_lexer": "ipython3",
   "version": "3.7.4"
  }
 },
 "nbformat": 4,
 "nbformat_minor": 2
}
