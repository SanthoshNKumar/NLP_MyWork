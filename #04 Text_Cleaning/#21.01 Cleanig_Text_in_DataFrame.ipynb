{
 "cells": [
  {
   "cell_type": "code",
   "execution_count": 141,
   "metadata": {},
   "outputs": [],
   "source": [
    "raw_docs = [\"Here are some very simple basic sentences.\",\n",
    "            \"They won't be very interesting, I'm afraid.\",\n",
    "            \"The point of these examples is to _learn how basic text cleaning works_ on *very simple* data.\"]"
   ]
  },
  {
   "cell_type": "code",
   "execution_count": 142,
   "metadata": {},
   "outputs": [],
   "source": [
    "import pandas as pd\n",
    "\n",
    "df = pd.DataFrame(raw_docs,columns=['Text'])"
   ]
  },
  {
   "cell_type": "code",
   "execution_count": 143,
   "metadata": {},
   "outputs": [],
   "source": [
    "df['Text_Cleaned'] = df['Text'].str.lower()"
   ]
  },
  {
   "cell_type": "code",
   "execution_count": 144,
   "metadata": {},
   "outputs": [
    {
     "data": {
      "text/html": [
       "<div>\n",
       "<style scoped>\n",
       "    .dataframe tbody tr th:only-of-type {\n",
       "        vertical-align: middle;\n",
       "    }\n",
       "\n",
       "    .dataframe tbody tr th {\n",
       "        vertical-align: top;\n",
       "    }\n",
       "\n",
       "    .dataframe thead th {\n",
       "        text-align: right;\n",
       "    }\n",
       "</style>\n",
       "<table border=\"1\" class=\"dataframe\">\n",
       "  <thead>\n",
       "    <tr style=\"text-align: right;\">\n",
       "      <th></th>\n",
       "      <th>Text</th>\n",
       "      <th>Text_Cleaned</th>\n",
       "    </tr>\n",
       "  </thead>\n",
       "  <tbody>\n",
       "    <tr>\n",
       "      <td>0</td>\n",
       "      <td>Here are some very simple basic sentences.</td>\n",
       "      <td>here are some very simple basic sentences</td>\n",
       "    </tr>\n",
       "    <tr>\n",
       "      <td>1</td>\n",
       "      <td>They won't be very interesting, I'm afraid.</td>\n",
       "      <td>they will not be very interesting  i m afraid</td>\n",
       "    </tr>\n",
       "    <tr>\n",
       "      <td>2</td>\n",
       "      <td>The point of these examples is to _learn how b...</td>\n",
       "      <td>the point of these examples is to  learn how b...</td>\n",
       "    </tr>\n",
       "  </tbody>\n",
       "</table>\n",
       "</div>"
      ],
      "text/plain": [
       "                                                Text  \\\n",
       "0         Here are some very simple basic sentences.   \n",
       "1        They won't be very interesting, I'm afraid.   \n",
       "2  The point of these examples is to _learn how b...   \n",
       "\n",
       "                                        Text_Cleaned  \n",
       "0         here are some very simple basic sentences   \n",
       "1     they will not be very interesting  i m afraid   \n",
       "2  the point of these examples is to  learn how b...  "
      ]
     },
     "execution_count": 144,
     "metadata": {},
     "output_type": "execute_result"
    }
   ],
   "source": [
    "df['Text_Cleaned'] = df['Text_Cleaned'].str.replace(\"I'm\",'I am') # Contraction Conversion\n",
    "\n",
    "df['Text_Cleaned'] = df['Text_Cleaned'].str.replace(\"won't\",'will not') # Contraction Conversion\n",
    "\n",
    "df['Text_Cleaned'] = df['Text_Cleaned'].str.replace(\"[^A-Za-z0-9]\",' ')\n",
    "\n",
    "df"
   ]
  },
  {
   "cell_type": "code",
   "execution_count": 145,
   "metadata": {},
   "outputs": [
    {
     "data": {
      "text/plain": [
       "0    [here, are, some, very, simple, basic, sentences]\n",
       "1    [they, will, not, be, very, interesting, i, m,...\n",
       "2    [the, point, of, these, examples, is, to, lear...\n",
       "Name: Text_Cleaned, dtype: object"
      ]
     },
     "execution_count": 145,
     "metadata": {},
     "output_type": "execute_result"
    }
   ],
   "source": [
    "df['Text_Cleaned'] =  df[\"Text_Cleaned\"].str.split()\n",
    "\n",
    "df['Text_Cleaned']"
   ]
  },
  {
   "cell_type": "code",
   "execution_count": 146,
   "metadata": {},
   "outputs": [
    {
     "data": {
      "text/plain": [
       "0                           [simple, basic, sentences]\n",
       "1                                [interesting, afraid]\n",
       "2    [point, examples, learn, basic, text, cleaning...\n",
       "Name: Text_Cleaned, dtype: object"
      ]
     },
     "execution_count": 146,
     "metadata": {},
     "output_type": "execute_result"
    }
   ],
   "source": [
    "from nltk.corpus import stopwords\n",
    "\n",
    "stopwrd = stopwords.words('english')\n",
    "\n",
    "df['Text_Cleaned'] = df['Text_Cleaned'].apply(lambda y:[x for x in y if x not in stopwrd])\n",
    "\n",
    "df['Text_Cleaned']"
   ]
  },
  {
   "cell_type": "code",
   "execution_count": 147,
   "metadata": {},
   "outputs": [
    {
     "data": {
      "text/html": [
       "<div>\n",
       "<style scoped>\n",
       "    .dataframe tbody tr th:only-of-type {\n",
       "        vertical-align: middle;\n",
       "    }\n",
       "\n",
       "    .dataframe tbody tr th {\n",
       "        vertical-align: top;\n",
       "    }\n",
       "\n",
       "    .dataframe thead th {\n",
       "        text-align: right;\n",
       "    }\n",
       "</style>\n",
       "<table border=\"1\" class=\"dataframe\">\n",
       "  <thead>\n",
       "    <tr style=\"text-align: right;\">\n",
       "      <th></th>\n",
       "      <th>Text</th>\n",
       "      <th>Text_Cleaned</th>\n",
       "    </tr>\n",
       "  </thead>\n",
       "  <tbody>\n",
       "    <tr>\n",
       "      <td>0</td>\n",
       "      <td>Here are some very simple basic sentences.</td>\n",
       "      <td>simple basic sentences</td>\n",
       "    </tr>\n",
       "    <tr>\n",
       "      <td>1</td>\n",
       "      <td>They won't be very interesting, I'm afraid.</td>\n",
       "      <td>interesting afraid</td>\n",
       "    </tr>\n",
       "    <tr>\n",
       "      <td>2</td>\n",
       "      <td>The point of these examples is to _learn how b...</td>\n",
       "      <td>point examples learn basic text cleaning works...</td>\n",
       "    </tr>\n",
       "  </tbody>\n",
       "</table>\n",
       "</div>"
      ],
      "text/plain": [
       "                                                Text  \\\n",
       "0         Here are some very simple basic sentences.   \n",
       "1        They won't be very interesting, I'm afraid.   \n",
       "2  The point of these examples is to _learn how b...   \n",
       "\n",
       "                                        Text_Cleaned  \n",
       "0                             simple basic sentences  \n",
       "1                                 interesting afraid  \n",
       "2  point examples learn basic text cleaning works...  "
      ]
     },
     "execution_count": 147,
     "metadata": {},
     "output_type": "execute_result"
    }
   ],
   "source": [
    "# Join the list Words\n",
    "\n",
    "df['Text_Cleaned'] = df['Text_Cleaned'].apply(lambda y: ' '.join([x for x in y]))\n",
    "\n",
    "df"
   ]
  },
  {
   "cell_type": "code",
   "execution_count": null,
   "metadata": {},
   "outputs": [],
   "source": []
  }
 ],
 "metadata": {
  "kernelspec": {
   "display_name": "Python 3",
   "language": "python",
   "name": "python3"
  },
  "language_info": {
   "codemirror_mode": {
    "name": "ipython",
    "version": 3
   },
   "file_extension": ".py",
   "mimetype": "text/x-python",
   "name": "python",
   "nbconvert_exporter": "python",
   "pygments_lexer": "ipython3",
   "version": "3.7.4"
  }
 },
 "nbformat": 4,
 "nbformat_minor": 2
}
