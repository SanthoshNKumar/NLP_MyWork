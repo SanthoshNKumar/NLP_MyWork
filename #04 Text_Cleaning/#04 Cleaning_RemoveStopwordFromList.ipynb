{
 "cells": [
  {
   "cell_type": "code",
   "execution_count": 1,
   "metadata": {},
   "outputs": [
    {
     "data": {
      "text/plain": [
       "['joe',\n",
       " 'waited',\n",
       " 'train',\n",
       " 'train',\n",
       " 'late',\n",
       " 'mary',\n",
       " 'samantha',\n",
       " 'took',\n",
       " 'bus',\n",
       " 'looked',\n",
       " 'mary',\n",
       " 'samantha',\n",
       " 'bus',\n",
       " 'station',\n",
       " 'mary',\n",
       " 'samantha',\n",
       " 'arrived',\n",
       " 'bus',\n",
       " 'station',\n",
       " 'early',\n",
       " 'waited',\n",
       " 'noon',\n",
       " 'bus']"
      ]
     },
     "execution_count": 1,
     "metadata": {},
     "output_type": "execute_result"
    }
   ],
   "source": [
    "import nltk\n",
    "\n",
    "vocab = ['Joe', 'waited', 'for', 'the', 'train', 'The', 'train', 'was', 'late', 'Mary', \n",
    "         'and', 'Samantha', 'took', 'the', 'bus', 'I', 'looked', 'for', 'Mary', 'and', \n",
    "         'Samantha', 'at', 'the', 'bus', 'station', 'Mary', 'and', 'Samantha', 'arrived', \n",
    "         'at', 'the', 'bus', 'station', 'early', 'but', 'waited', 'until', 'noon', 'for', \n",
    "         'the', 'bus']\n",
    "         \n",
    "[v for v in (v.lower() for v in vocab) if v not in nltk.corpus.stopwords.words('english') ]"
   ]
  },
  {
   "cell_type": "code",
   "execution_count": null,
   "metadata": {},
   "outputs": [],
   "source": []
  }
 ],
 "metadata": {
  "kernelspec": {
   "display_name": "Python 3",
   "language": "python",
   "name": "python3"
  },
  "language_info": {
   "codemirror_mode": {
    "name": "ipython",
    "version": 3
   },
   "file_extension": ".py",
   "mimetype": "text/x-python",
   "name": "python",
   "nbconvert_exporter": "python",
   "pygments_lexer": "ipython3",
   "version": "3.7.4"
  }
 },
 "nbformat": 4,
 "nbformat_minor": 2
}
