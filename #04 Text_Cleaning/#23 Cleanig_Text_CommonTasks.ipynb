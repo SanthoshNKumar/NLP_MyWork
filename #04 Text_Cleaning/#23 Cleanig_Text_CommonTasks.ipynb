{
 "cells": [
  {
   "cell_type": "code",
   "execution_count": 39,
   "metadata": {},
   "outputs": [],
   "source": [
    "raw_docs = [\"Here are some very simple basic sentences.\",\n",
    "            \"They won't be very interesting, I'm afraid.\",\n",
    "            \"The point of these examples is to _learn how basic text cleaning works_ on *very simple* data.\"]"
   ]
  },
  {
   "cell_type": "code",
   "execution_count": 40,
   "metadata": {},
   "outputs": [
    {
     "name": "stdout",
     "output_type": "stream",
     "text": [
      "[['Here', 'are', 'some', 'very', 'simple', 'basic', 'sentences', '.'], ['They', 'wo', \"n't\", 'be', 'very', 'interesting', ',', 'I', \"'m\", 'afraid', '.'], ['The', 'point', 'of', 'these', 'examples', 'is', 'to', '_learn', 'how', 'basic', 'text', 'cleaning', 'works_', 'on', '*very', 'simple*', 'data', '.']]\n"
     ]
    }
   ],
   "source": [
    "from nltk.tokenize import word_tokenize\n",
    "tokenized_docs = [word_tokenize(x) for x in raw_docs]\n",
    "\n",
    "print(tokenized_docs)"
   ]
  },
  {
   "cell_type": "code",
   "execution_count": 41,
   "metadata": {},
   "outputs": [
    {
     "data": {
      "text/plain": [
       "['They', \"won't\", 'be', 'very', 'interesting,', \"I'm\", 'afraid.']"
      ]
     },
     "execution_count": 41,
     "metadata": {},
     "output_type": "execute_result"
    }
   ],
   "source": [
    "raw_docs[1].split()"
   ]
  },
  {
   "cell_type": "code",
   "execution_count": 42,
   "metadata": {},
   "outputs": [],
   "source": [
    "contractions ={\n",
    "    \"won't\" :\"Will not\",\n",
    "    \"I'm\" : \"I am\"\n",
    "}"
   ]
  },
  {
   "cell_type": "code",
   "execution_count": 43,
   "metadata": {},
   "outputs": [],
   "source": [
    "import re\n",
    "# Cleaning text of stopwords\n",
    "from nltk.corpus import stopwords\n",
    "from nltk.tokenize import word_tokenize,sent_tokenize\n",
    "\n",
    "def Expand_Contraction(sent):\n",
    "    cleaned_words = []\n",
    "    for i in sent.split():\n",
    "        if i in contractions:\n",
    "            cleaned_words.append(contractions[i])\n",
    "        else:\n",
    "            cleaned_words.append(i)\n",
    "    \n",
    "    text =  ' '.join([x for x in cleaned_words])\n",
    "    # text = text.lower()\n",
    "    # text = re.sub(\"[^a-zA-Z0-9]\",' ',text)\n",
    "    \n",
    "    return text   # Remove special Chatacters\n",
    "\n",
    "def clean_stopwords(sent):\n",
    "    clenedwords = []\n",
    "    for word in sent.split():\n",
    "        if not word in stopwords.words('english'):\n",
    "            clenedwords.append(word)   \n",
    "    return ' '.join([x for x in clenedwords])\n",
    "\n",
    "def removeSpecialCharcater(sent):\n",
    "    cleanedText = []\n",
    "    for i in sent:\n",
    "        cleanedText.append(re.sub(\"[^a-zA-Z0-9]\",' ',i))\n",
    "    return cleanedText\n",
    "\n",
    "def lowerText(sent):\n",
    "    cleanedText = []\n",
    "    for i in sent:\n",
    "        cleanedText.append(i.lower())\n",
    "    return cleanedText"
   ]
  },
  {
   "cell_type": "code",
   "execution_count": 44,
   "metadata": {},
   "outputs": [
    {
     "data": {
      "text/plain": [
       "['Here are some very simple basic sentences.',\n",
       " 'They Will not be very interesting, I am afraid.',\n",
       " 'The point of these examples is to _learn how basic text cleaning works_ on *very simple* data.']"
      ]
     },
     "execution_count": 44,
     "metadata": {},
     "output_type": "execute_result"
    }
   ],
   "source": [
    "text = [Expand_Contraction(x) for x in raw_docs]\n",
    "\n",
    "text"
   ]
  },
  {
   "cell_type": "code",
   "execution_count": 45,
   "metadata": {},
   "outputs": [
    {
     "data": {
      "text/plain": [
       "['here are some very simple basic sentences ',\n",
       " 'they will not be very interesting  i am afraid ',\n",
       " 'the point of these examples is to  learn how basic text cleaning works  on  very simple  data ']"
      ]
     },
     "execution_count": 45,
     "metadata": {},
     "output_type": "execute_result"
    }
   ],
   "source": [
    "text = removeSpecialCharcater(text)\n",
    "\n",
    "lowerText(text)"
   ]
  },
  {
   "cell_type": "code",
   "execution_count": null,
   "metadata": {},
   "outputs": [],
   "source": []
  },
  {
   "cell_type": "code",
   "execution_count": null,
   "metadata": {},
   "outputs": [],
   "source": []
  },
  {
   "cell_type": "code",
   "execution_count": null,
   "metadata": {},
   "outputs": [],
   "source": []
  }
 ],
 "metadata": {
  "kernelspec": {
   "display_name": "Python 3",
   "language": "python",
   "name": "python3"
  },
  "language_info": {
   "codemirror_mode": {
    "name": "ipython",
    "version": 3
   },
   "file_extension": ".py",
   "mimetype": "text/x-python",
   "name": "python",
   "nbconvert_exporter": "python",
   "pygments_lexer": "ipython3",
   "version": "3.7.4"
  }
 },
 "nbformat": 4,
 "nbformat_minor": 2
}
