{
 "cells": [
  {
   "cell_type": "code",
   "execution_count": 4,
   "metadata": {},
   "outputs": [
    {
     "name": "stdout",
     "output_type": "stream",
     "text": [
      "I learning Pyhon , It one popular programmin language\n"
     ]
    }
   ],
   "source": [
    "#Stop word Removal\n",
    "\n",
    "import nltk\n",
    "\n",
    "\n",
    "sentence = \"I am learning Pyhon,It is one of the most popular programmin language\"\n",
    "\n",
    "stopwords = nltk.corpus.stopwords.words('english')\n",
    "\n",
    "sentence_tokens = nltk.word_tokenize(sentence)\n",
    "\n",
    "print(\" \".join([v for v in sentence_tokens if v not in stopwords]))\n",
    "\n"
   ]
  },
  {
   "cell_type": "code",
   "execution_count": 6,
   "metadata": {},
   "outputs": [
    {
     "name": "stdout",
     "output_type": "stream",
     "text": [
      "total words before stop words 41\n",
      "words count after stop word removed 23\n"
     ]
    }
   ],
   "source": [
    "import nltk\n",
    "\n",
    "words = ['Joe', 'waited', 'for', 'the', 'train', 'The', 'train', 'was', 'late', 'Mary', 'and', 'Samantha', \n",
    "         'took', 'the', 'bus', 'I', 'looked', 'for', 'Mary', 'and', 'Samantha', 'at', 'the', 'bus', \n",
    "         'station', 'Mary', 'and', 'Samantha', 'arrived', 'at', 'the', 'bus', 'station', 'early', 'but', \n",
    "         'waited', 'until', 'noon', 'for', 'the', 'bus']\n",
    "\n",
    "# Conver all the words to lower case\n",
    "words = [v.lower() for v in words]\n",
    "\n",
    "print(\"total words before stop words\",len(words))\n",
    "\n",
    "#Stop word \n",
    "words_stopwordsRemoved = [v for v in words if v not in nltk.corpus.stopwords.words('english')]\n",
    "\n",
    "print(\"words count after stop word removed\",len(words_stopwordsRemoved))"
   ]
  },
  {
   "cell_type": "code",
   "execution_count": null,
   "metadata": {},
   "outputs": [],
   "source": []
  }
 ],
 "metadata": {
  "kernelspec": {
   "display_name": "Python 3",
   "language": "python",
   "name": "python3"
  },
  "language_info": {
   "codemirror_mode": {
    "name": "ipython",
    "version": 3
   },
   "file_extension": ".py",
   "mimetype": "text/x-python",
   "name": "python",
   "nbconvert_exporter": "python",
   "pygments_lexer": "ipython3",
   "version": "3.7.4"
  }
 },
 "nbformat": 4,
 "nbformat_minor": 2
}
