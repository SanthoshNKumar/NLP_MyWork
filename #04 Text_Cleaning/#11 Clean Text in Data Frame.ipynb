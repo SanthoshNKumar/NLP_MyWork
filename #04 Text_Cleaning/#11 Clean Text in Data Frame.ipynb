{
 "cells": [
  {
   "cell_type": "code",
   "execution_count": 1,
   "metadata": {},
   "outputs": [],
   "source": [
    "import pandas as pd\n",
    "import nltk\n",
    "\n",
    "data = pd.read_csv(\"C:\\\\MyWork\\\\MyLearning\\\\ML\\\\Files\\\\DataSet\\\\WordEmbeddingtrain.csv\").sample(100, random_state=23)"
   ]
  },
  {
   "cell_type": "code",
   "execution_count": 2,
   "metadata": {},
   "outputs": [
    {
     "data": {
      "text/plain": [
       "(100, 6)"
      ]
     },
     "execution_count": 2,
     "metadata": {},
     "output_type": "execute_result"
    }
   ],
   "source": [
    "data.shape"
   ]
  },
  {
   "cell_type": "code",
   "execution_count": 3,
   "metadata": {},
   "outputs": [
    {
     "data": {
      "text/html": [
       "<div>\n",
       "<style scoped>\n",
       "    .dataframe tbody tr th:only-of-type {\n",
       "        vertical-align: middle;\n",
       "    }\n",
       "\n",
       "    .dataframe tbody tr th {\n",
       "        vertical-align: top;\n",
       "    }\n",
       "\n",
       "    .dataframe thead th {\n",
       "        text-align: right;\n",
       "    }\n",
       "</style>\n",
       "<table border=\"1\" class=\"dataframe\">\n",
       "  <thead>\n",
       "    <tr style=\"text-align: right;\">\n",
       "      <th></th>\n",
       "      <th>id</th>\n",
       "      <th>qid1</th>\n",
       "      <th>qid2</th>\n",
       "      <th>question1</th>\n",
       "      <th>question2</th>\n",
       "      <th>is_duplicate</th>\n",
       "    </tr>\n",
       "  </thead>\n",
       "  <tbody>\n",
       "    <tr>\n",
       "      <td>237921</td>\n",
       "      <td>237921</td>\n",
       "      <td>9732</td>\n",
       "      <td>79801</td>\n",
       "      <td>Is sex necessary in a relationship?</td>\n",
       "      <td>Why is sex important in a good relationship?</td>\n",
       "      <td>1</td>\n",
       "    </tr>\n",
       "    <tr>\n",
       "      <td>181001</td>\n",
       "      <td>181001</td>\n",
       "      <td>277377</td>\n",
       "      <td>277378</td>\n",
       "      <td>What are the most inspiring start up stories?</td>\n",
       "      <td>What are the most inspirational stories ever?</td>\n",
       "      <td>0</td>\n",
       "    </tr>\n",
       "    <tr>\n",
       "      <td>294691</td>\n",
       "      <td>294691</td>\n",
       "      <td>150129</td>\n",
       "      <td>93109</td>\n",
       "      <td>What is your best way to do digital marketing?</td>\n",
       "      <td>What are the best unique ways to do Digital Ma...</td>\n",
       "      <td>1</td>\n",
       "    </tr>\n",
       "    <tr>\n",
       "      <td>104145</td>\n",
       "      <td>104145</td>\n",
       "      <td>171986</td>\n",
       "      <td>171987</td>\n",
       "      <td>What is the best way to grow a Facebook fan page?</td>\n",
       "      <td>How do I get more followers on my Facebook page?</td>\n",
       "      <td>1</td>\n",
       "    </tr>\n",
       "    <tr>\n",
       "      <td>357893</td>\n",
       "      <td>357893</td>\n",
       "      <td>487310</td>\n",
       "      <td>487311</td>\n",
       "      <td>Suppose Host A sends two TCP segments back to ...</td>\n",
       "      <td>Suppose Host A sends two TCP segments back to ...</td>\n",
       "      <td>1</td>\n",
       "    </tr>\n",
       "  </tbody>\n",
       "</table>\n",
       "</div>"
      ],
      "text/plain": [
       "            id    qid1    qid2  \\\n",
       "237921  237921    9732   79801   \n",
       "181001  181001  277377  277378   \n",
       "294691  294691  150129   93109   \n",
       "104145  104145  171986  171987   \n",
       "357893  357893  487310  487311   \n",
       "\n",
       "                                                question1  \\\n",
       "237921                Is sex necessary in a relationship?   \n",
       "181001      What are the most inspiring start up stories?   \n",
       "294691     What is your best way to do digital marketing?   \n",
       "104145  What is the best way to grow a Facebook fan page?   \n",
       "357893  Suppose Host A sends two TCP segments back to ...   \n",
       "\n",
       "                                                question2  is_duplicate  \n",
       "237921       Why is sex important in a good relationship?             1  \n",
       "181001      What are the most inspirational stories ever?             0  \n",
       "294691  What are the best unique ways to do Digital Ma...             1  \n",
       "104145   How do I get more followers on my Facebook page?             1  \n",
       "357893  Suppose Host A sends two TCP segments back to ...             1  "
      ]
     },
     "execution_count": 3,
     "metadata": {},
     "output_type": "execute_result"
    }
   ],
   "source": [
    "data.head()"
   ]
  },
  {
   "cell_type": "code",
   "execution_count": 4,
   "metadata": {},
   "outputs": [],
   "source": [
    "STOP_Words = nltk.corpus.stopwords.words()"
   ]
  },
  {
   "cell_type": "code",
   "execution_count": 5,
   "metadata": {},
   "outputs": [],
   "source": [
    "import re\n",
    "\n",
    "def clean_sentence(val):\n",
    "    regex = re.compile('([^\\s\\w]|_)+')\n",
    "    sentence = regex.sub('', val).lower()\n",
    "    sentence = sentence.split(\" \")\n",
    "    \n",
    "    for word in list(sentence):\n",
    "        if word in STOP_Words:\n",
    "            sentence.remove(word) \n",
    "            \n",
    "    sentence = \" \".join(sentence)\n",
    "    \n",
    "    return sentence"
   ]
  },
  {
   "cell_type": "code",
   "execution_count": 6,
   "metadata": {},
   "outputs": [],
   "source": [
    "def clean_dataframe(data):\n",
    "    data = data.dropna(how=\"any\")\n",
    "    \n",
    "    for col in ['question1','question2']:\n",
    "        data[col] = data[col].apply(clean_sentence)\n",
    "        \n",
    "    return data"
   ]
  },
  {
   "cell_type": "code",
   "execution_count": 7,
   "metadata": {},
   "outputs": [],
   "source": [
    "data = clean_dataframe(data)"
   ]
  },
  {
   "cell_type": "code",
   "execution_count": 8,
   "metadata": {},
   "outputs": [
    {
     "data": {
      "text/html": [
       "<div>\n",
       "<style scoped>\n",
       "    .dataframe tbody tr th:only-of-type {\n",
       "        vertical-align: middle;\n",
       "    }\n",
       "\n",
       "    .dataframe tbody tr th {\n",
       "        vertical-align: top;\n",
       "    }\n",
       "\n",
       "    .dataframe thead th {\n",
       "        text-align: right;\n",
       "    }\n",
       "</style>\n",
       "<table border=\"1\" class=\"dataframe\">\n",
       "  <thead>\n",
       "    <tr style=\"text-align: right;\">\n",
       "      <th></th>\n",
       "      <th>id</th>\n",
       "      <th>qid1</th>\n",
       "      <th>qid2</th>\n",
       "      <th>question1</th>\n",
       "      <th>question2</th>\n",
       "      <th>is_duplicate</th>\n",
       "    </tr>\n",
       "  </thead>\n",
       "  <tbody>\n",
       "    <tr>\n",
       "      <td>237921</td>\n",
       "      <td>237921</td>\n",
       "      <td>9732</td>\n",
       "      <td>79801</td>\n",
       "      <td>sex necessary relationship</td>\n",
       "      <td>sex important good relationship</td>\n",
       "      <td>1</td>\n",
       "    </tr>\n",
       "    <tr>\n",
       "      <td>181001</td>\n",
       "      <td>181001</td>\n",
       "      <td>277377</td>\n",
       "      <td>277378</td>\n",
       "      <td>inspiring start stories</td>\n",
       "      <td>inspirational stories ever</td>\n",
       "      <td>0</td>\n",
       "    </tr>\n",
       "    <tr>\n",
       "      <td>294691</td>\n",
       "      <td>294691</td>\n",
       "      <td>150129</td>\n",
       "      <td>93109</td>\n",
       "      <td>best way digital marketing</td>\n",
       "      <td>best unique ways digital marketing</td>\n",
       "      <td>1</td>\n",
       "    </tr>\n",
       "    <tr>\n",
       "      <td>104145</td>\n",
       "      <td>104145</td>\n",
       "      <td>171986</td>\n",
       "      <td>171987</td>\n",
       "      <td>best way grow facebook fan page</td>\n",
       "      <td>get followers facebook page</td>\n",
       "      <td>1</td>\n",
       "    </tr>\n",
       "    <tr>\n",
       "      <td>357893</td>\n",
       "      <td>357893</td>\n",
       "      <td>487310</td>\n",
       "      <td>487311</td>\n",
       "      <td>suppose host sends two tcp segments back back ...</td>\n",
       "      <td>suppose host sends two tcp segments back back ...</td>\n",
       "      <td>1</td>\n",
       "    </tr>\n",
       "  </tbody>\n",
       "</table>\n",
       "</div>"
      ],
      "text/plain": [
       "            id    qid1    qid2  \\\n",
       "237921  237921    9732   79801   \n",
       "181001  181001  277377  277378   \n",
       "294691  294691  150129   93109   \n",
       "104145  104145  171986  171987   \n",
       "357893  357893  487310  487311   \n",
       "\n",
       "                                                question1  \\\n",
       "237921                         sex necessary relationship   \n",
       "181001                            inspiring start stories   \n",
       "294691                         best way digital marketing   \n",
       "104145                    best way grow facebook fan page   \n",
       "357893  suppose host sends two tcp segments back back ...   \n",
       "\n",
       "                                                question2  is_duplicate  \n",
       "237921                    sex important good relationship             1  \n",
       "181001                         inspirational stories ever             0  \n",
       "294691                 best unique ways digital marketing             1  \n",
       "104145                        get followers facebook page             1  \n",
       "357893  suppose host sends two tcp segments back back ...             1  "
      ]
     },
     "execution_count": 8,
     "metadata": {},
     "output_type": "execute_result"
    }
   ],
   "source": [
    "data.head()"
   ]
  },
  {
   "cell_type": "code",
   "execution_count": null,
   "metadata": {},
   "outputs": [],
   "source": []
  }
 ],
 "metadata": {
  "kernelspec": {
   "display_name": "Python 3",
   "language": "python",
   "name": "python3"
  },
  "language_info": {
   "codemirror_mode": {
    "name": "ipython",
    "version": 3
   },
   "file_extension": ".py",
   "mimetype": "text/x-python",
   "name": "python",
   "nbconvert_exporter": "python",
   "pygments_lexer": "ipython3",
   "version": "3.7.4"
  }
 },
 "nbformat": 4,
 "nbformat_minor": 2
}
