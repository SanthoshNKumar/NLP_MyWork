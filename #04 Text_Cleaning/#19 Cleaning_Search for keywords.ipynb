{
 "cells": [
  {
   "cell_type": "code",
   "execution_count": 1,
   "metadata": {},
   "outputs": [
    {
     "name": "stdout",
     "output_type": "stream",
     "text": [
      "Displaying 2 of 2 matches:\n",
      "This is a great day , It is even better than \n",
      "This is a great day , It is even better than yesterday.And yester\n"
     ]
    }
   ],
   "source": [
    "# Search for the keyword using NLTK\n",
    "import nltk\n",
    "text = \"This is a great day,It is even better than yesterday.And yesterday was the best day ever.\"\n",
    "\n",
    "text = nltk.Text(nltk.word_tokenize(text))\n",
    "match = text.concordance('is')"
   ]
  },
  {
   "cell_type": "code",
   "execution_count": null,
   "metadata": {},
   "outputs": [],
   "source": []
  }
 ],
 "metadata": {
  "kernelspec": {
   "display_name": "Python 3",
   "language": "python",
   "name": "python3"
  },
  "language_info": {
   "codemirror_mode": {
    "name": "ipython",
    "version": 3
   },
   "file_extension": ".py",
   "mimetype": "text/x-python",
   "name": "python",
   "nbconvert_exporter": "python",
   "pygments_lexer": "ipython3",
   "version": "3.7.4"
  }
 },
 "nbformat": 4,
 "nbformat_minor": 2
}
