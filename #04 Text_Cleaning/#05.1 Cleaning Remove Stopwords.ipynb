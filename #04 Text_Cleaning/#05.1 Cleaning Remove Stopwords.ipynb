{
 "cells": [
  {
   "cell_type": "code",
   "execution_count": 1,
   "metadata": {},
   "outputs": [
    {
     "name": "stdout",
     "output_type": "stream",
     "text": [
      "['Today', 'great', 'day', '.', 'It', 'even', 'better', 'yesterday', '.', 'And', 'yesterday', 'best', 'day', 'ever', '!']\n"
     ]
    }
   ],
   "source": [
    "# Filter Stop Words\n",
    "\n",
    "from nltk.corpus import stopwords\n",
    "text=\"Today is a great day. It is even better than yesterday. And yesterday was the best day ever!\"\n",
    "stopwords=set(stopwords.words('english'))\n",
    "from nltk.tokenize import word_tokenize\n",
    "words=word_tokenize(text)\n",
    "wordsFiltered=[]\n",
    "for w in words:\n",
    "    if w not in stopwords:\n",
    "        wordsFiltered.append(w)\n",
    "print(wordsFiltered)\n"
   ]
  },
  {
   "cell_type": "code",
   "execution_count": null,
   "metadata": {},
   "outputs": [],
   "source": []
  }
 ],
 "metadata": {
  "kernelspec": {
   "display_name": "Python 3",
   "language": "python",
   "name": "python3"
  },
  "language_info": {
   "codemirror_mode": {
    "name": "ipython",
    "version": 3
   },
   "file_extension": ".py",
   "mimetype": "text/x-python",
   "name": "python",
   "nbconvert_exporter": "python",
   "pygments_lexer": "ipython3",
   "version": "3.7.4"
  }
 },
 "nbformat": 4,
 "nbformat_minor": 2
}
