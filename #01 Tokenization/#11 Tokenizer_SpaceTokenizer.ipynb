{
 "cells": [
  {
   "cell_type": "code",
   "execution_count": 2,
   "metadata": {},
   "outputs": [
    {
     "name": "stdout",
     "output_type": "stream",
     "text": [
      "['My', 'name', 'is', 'maximum', 'Decimus', 'Meridius.', 'Commander', 'of', 'the', 'Armier', 'of', 'the', 'North,', 'General', 'of', 'the', 'Felix', 'Legions', 'and', 'loyal', 'servant', 'to', 'the', 'true', 'emperor,', 'Mercus', 'Aurelius.', '\\nFather', 'to', 'a', 'murdered', 'son.', 'husband', 'to', 'a', 'murdered', 'wife.', '\\nAnd', 'I', 'will', 'have', 'my', 'vengeance,', 'in', 'this']\n"
     ]
    }
   ],
   "source": [
    "from nltk.tokenize import SpaceTokenizer\n",
    "from nltk.tokenize import LineTokenizer\n",
    "\n",
    "text = \"My name is maximum Decimus Meridius. Commander of the Armier of the North, General of the Felix Legions and loyal servant to the true emperor, Mercus Aurelius. \\nFather to a murdered son. husband to a murdered wife. \\nAnd I will have my vengeance, in this\"\n",
    "\n",
    "print(SpaceTokenizer().tokenize(text))\n"
   ]
  },
  {
   "cell_type": "code",
   "execution_count": 3,
   "metadata": {},
   "outputs": [
    {
     "name": "stdout",
     "output_type": "stream",
     "text": [
      "3\n"
     ]
    }
   ],
   "source": [
    "print(len(LineTokenizer().tokenize(text)))"
   ]
  },
  {
   "cell_type": "code",
   "execution_count": null,
   "metadata": {},
   "outputs": [],
   "source": []
  }
 ],
 "metadata": {
  "kernelspec": {
   "display_name": "Python 3",
   "language": "python",
   "name": "python3"
  }
 },
 "nbformat": 4,
 "nbformat_minor": 2
}
