{
 "cells": [
  {
   "cell_type": "code",
   "execution_count": 2,
   "metadata": {},
   "outputs": [
    {
     "name": "stdout",
     "output_type": "stream",
     "text": [
      "['Geeksfor', 'Geeks..', '.$$&* \\nis', ' for geeks']\n"
     ]
    }
   ],
   "source": [
    "# TabTokenizer : Extract the tokens from string of words on the basis of tabs between them\n",
    "  \n",
    "# import TabTokenizer() method from nltk \n",
    "from nltk.tokenize import TabTokenizer \n",
    "     \n",
    "# Create a reference variable for Class TabTokenizer \n",
    "tk = TabTokenizer() \n",
    "     \n",
    "# Create a string input \n",
    "gfg = \"Geeksfor\\tGeeks..\\t.$$&* \\nis\\t for geeks\"\n",
    "     \n",
    "# Use tokenize method \n",
    "geek = tk.tokenize(gfg) \n",
    "     \n",
    "print(geek) "
   ]
  },
  {
   "cell_type": "code",
   "execution_count": null,
   "metadata": {},
   "outputs": [],
   "source": []
  }
 ],
 "metadata": {
  "kernelspec": {
   "display_name": "Python 3",
   "language": "python",
   "name": "python3"
  },
  "language_info": {
   "codemirror_mode": {
    "name": "ipython",
    "version": 3
   },
   "file_extension": ".py",
   "mimetype": "text/x-python",
   "name": "python",
   "nbconvert_exporter": "python",
   "pygments_lexer": "ipython3",
   "version": "3.7.4"
  }
 },
 "nbformat": 4,
 "nbformat_minor": 2
}
