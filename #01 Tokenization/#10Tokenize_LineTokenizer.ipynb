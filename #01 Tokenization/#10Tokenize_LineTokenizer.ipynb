{
 "cells": [
  {
   "cell_type": "code",
   "execution_count": 1,
   "metadata": {},
   "outputs": [
    {
     "name": "stdout",
     "output_type": "stream",
     "text": [
      "['My name is maximum Decimus Meridius. Commander of the Armier of the North, General of the Felix Legions and loyal servant to the true emperor, Mercus Aurelius. ', 'Father to a murdered son. husband to a murdered wife. ', 'And I will have my vengeance, in this']\n",
      "3\n"
     ]
    }
   ],
   "source": [
    "# LineTokenizer : Tokenize based on the '\\n'\n",
    "\n",
    "from nltk.tokenize import LineTokenizer\n",
    "\n",
    "text = \"My name is maximum Decimus Meridius. Commander of the Armier of the North, General of the Felix Legions and loyal servant to the true emperor, Mercus Aurelius. \\nFather to a murdered son. husband to a murdered wife. \\nAnd I will have my vengeance, in this\"\n",
    "\n",
    "print(LineTokenizer().tokenize(text))\n",
    "print(len(LineTokenizer().tokenize(text)))\n"
   ]
  },
  {
   "cell_type": "code",
   "execution_count": null,
   "metadata": {},
   "outputs": [],
   "source": []
  }
 ],
 "metadata": {
  "kernelspec": {
   "display_name": "Python 3",
   "language": "python",
   "name": "python3"
  },
  "language_info": {
   "codemirror_mode": {
    "name": "ipython",
    "version": 3
   },
   "file_extension": ".py",
   "mimetype": "text/x-python",
   "name": "python",
   "nbconvert_exporter": "python",
   "pygments_lexer": "ipython3",
   "version": "3.7.4"
  }
 },
 "nbformat": 4,
 "nbformat_minor": 2
}
