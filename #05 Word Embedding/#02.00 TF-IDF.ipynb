{
 "cells": [
  {
   "cell_type": "code",
   "execution_count": 1,
   "metadata": {},
   "outputs": [
    {
     "data": {
      "text/html": [
       "<div>\n",
       "<style scoped>\n",
       "    .dataframe tbody tr th:only-of-type {\n",
       "        vertical-align: middle;\n",
       "    }\n",
       "\n",
       "    .dataframe tbody tr th {\n",
       "        vertical-align: top;\n",
       "    }\n",
       "\n",
       "    .dataframe thead th {\n",
       "        text-align: right;\n",
       "    }\n",
       "</style>\n",
       "<table border=\"1\" class=\"dataframe\">\n",
       "  <thead>\n",
       "    <tr style=\"text-align: right;\">\n",
       "      <th></th>\n",
       "      <th>earth</th>\n",
       "      <th>from</th>\n",
       "      <th>is</th>\n",
       "      <th>jupiter</th>\n",
       "      <th>largest</th>\n",
       "      <th>planet</th>\n",
       "      <th>sun</th>\n",
       "      <th>the</th>\n",
       "      <th>third</th>\n",
       "    </tr>\n",
       "  </thead>\n",
       "  <tbody>\n",
       "    <tr>\n",
       "      <td>0</td>\n",
       "      <td>0.364391</td>\n",
       "      <td>0.364391</td>\n",
       "      <td>0.259267</td>\n",
       "      <td>0.000000</td>\n",
       "      <td>0.000000</td>\n",
       "      <td>0.364391</td>\n",
       "      <td>0.364391</td>\n",
       "      <td>0.518534</td>\n",
       "      <td>0.364391</td>\n",
       "    </tr>\n",
       "    <tr>\n",
       "      <td>1</td>\n",
       "      <td>0.000000</td>\n",
       "      <td>0.000000</td>\n",
       "      <td>0.409937</td>\n",
       "      <td>0.576152</td>\n",
       "      <td>0.576152</td>\n",
       "      <td>0.000000</td>\n",
       "      <td>0.000000</td>\n",
       "      <td>0.409937</td>\n",
       "      <td>0.000000</td>\n",
       "    </tr>\n",
       "  </tbody>\n",
       "</table>\n",
       "</div>"
      ],
      "text/plain": [
       "      earth      from        is   jupiter   largest    planet       sun  \\\n",
       "0  0.364391  0.364391  0.259267  0.000000  0.000000  0.364391  0.364391   \n",
       "1  0.000000  0.000000  0.409937  0.576152  0.576152  0.000000  0.000000   \n",
       "\n",
       "        the     third  \n",
       "0  0.518534  0.364391  \n",
       "1  0.409937  0.000000  "
      ]
     },
     "execution_count": 1,
     "metadata": {},
     "output_type": "execute_result"
    }
   ],
   "source": [
    "from sklearn.feature_extraction.text import TfidfVectorizer\n",
    "import pandas as pd\n",
    "#texts = [\"Chennai Super Kings won the final 2018 IPL\"\n",
    "#        \"Chennai Super Kings Crowned IPL 2018 Champions\",\n",
    "#        \"Chennai super kings returns\"]\n",
    "\n",
    "texts = [\"earth is the third planet from the sun\",\n",
    "         \"Jupiter is the largest\"]\n",
    "\n",
    "tfidf = TfidfVectorizer()\n",
    "features = tfidf.fit_transform(texts)\n",
    "pd.DataFrame(features.todense(),columns = tfidf.get_feature_names())\n",
    "\n",
    "# Calculate TF-idf Manually\n",
    "# Consider a document containing 100 words wherein the word 'Cauvery' appears 3 times.\n",
    "# The term frequency (tf) for 'Cauvery' is then TF = (3 / 100) = 0.03.\n",
    "# Now, assume we have 10 million documents and the word 'Cauvery' appears in 1000 of these. Then, \n",
    "# the inverse document frequency (idf) is calculated as IDF = log(10,000,000 / 1,000) = 4.\n",
    "# Thus, the Tf-idf weight is the product of these quantities TF-IDF = 0.03 * 4 = 0.12.\n",
    "\n"
   ]
  },
  {
   "cell_type": "code",
   "execution_count": null,
   "metadata": {},
   "outputs": [],
   "source": []
  }
 ],
 "metadata": {
  "kernelspec": {
   "display_name": "Python 3",
   "language": "python",
   "name": "python3"
  },
  "language_info": {
   "codemirror_mode": {
    "name": "ipython",
    "version": 3
   },
   "file_extension": ".py",
   "mimetype": "text/x-python",
   "name": "python",
   "nbconvert_exporter": "python",
   "pygments_lexer": "ipython3",
   "version": "3.7.4"
  }
 },
 "nbformat": 4,
 "nbformat_minor": 2
}
