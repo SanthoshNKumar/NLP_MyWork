{
 "cells": [
  {
   "cell_type": "code",
   "execution_count": null,
   "metadata": {},
   "outputs": [],
   "source": [
    "# Consider the below two sentences.\n",
    "\n",
    "# 1. \"John likes to watch movies. Mary likes movies too.\"\n",
    "# 2. \"John also likes to watch football games.\"\n",
    "\n",
    "# These two sentences can be also represented with a collection of words.\n",
    "# 1. ['John', 'likes', 'to', 'watch', 'movies.', 'Mary', 'likes', 'movies', 'too.']\n",
    "# 2. ['John', 'also', 'likes', 'to', 'watch', 'football', 'games']\n",
    "\n",
    "# Remove multiple occurrences of the word and use the word count to represent this.\n",
    "# 1. {\"John\":1,\"likes\":2,\"to\":1,\"watch\":1,\"movies\":2,\"Mary\":1,\"too\":1}\n",
    "# 2. {\"John\":1,\"also\":1,\"likes\":1,\"to\":1,\"watch\":1,\"football\":1,   \"games\":1}\n",
    "\n",
    "# Combined word frequency for our entire document. Both sentences are taken into account.\n",
    "# {\"John\":2,\"likes\":3,\"to\":2,\"watch\":2,\"movies\":2,\"Mary\":1,\"too\":1,  \"also\":1,\"football\":1,\"games\":1}\n",
    "\n",
    "\n",
    "# The length of the vector will always be equal to vocabulary size. In this case the vector length is 11.\n",
    "\n",
    "\n",
    "# In order to represent our original sentences in a vector, each vector is initialized with all zeros — \n",
    "# [0, 0, 0, 0, 0, 0, 0, 0, 0, 0]\n",
    "\n",
    "# John likes to watch movies. Mary likes movies too.[1, 2, 1, 1, 2, 1, 1, 0, 0, 0]\n",
    "\n",
    "# John also likes to watch football games.[1, 1, 1, 1, 0, 0, 0, 1, 1, 1]\n",
    "\n"
   ]
  }
 ],
 "metadata": {
  "kernelspec": {
   "display_name": "Python 3",
   "language": "python",
   "name": "python3"
  },
  "language_info": {
   "codemirror_mode": {
    "name": "ipython",
    "version": 3
   },
   "file_extension": ".py",
   "mimetype": "text/x-python",
   "name": "python",
   "nbconvert_exporter": "python",
   "pygments_lexer": "ipython3",
   "version": "3.7.4"
  }
 },
 "nbformat": 4,
 "nbformat_minor": 2
}
