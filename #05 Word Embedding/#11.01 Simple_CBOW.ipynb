{
 "cells": [
  {
   "cell_type": "code",
   "execution_count": 6,
   "metadata": {},
   "outputs": [
    {
     "name": "stdout",
     "output_type": "stream",
     "text": [
      "Sentence Length=6\n",
      "['The', 'King', 'James', 'Bible', 'london', 'are']\n",
      "\n",
      "\n",
      "Index=0\n",
      "output =  The\n",
      "['King', 'James']\n",
      "Index=1\n",
      "output =  King\n",
      "['The', 'James', 'Bible']\n",
      "Index=2\n",
      "output =  James\n",
      "['The', 'King', 'Bible', 'london']\n",
      "Index=3\n",
      "output =  Bible\n",
      "['King', 'James', 'london', 'are']\n",
      "Index=4\n",
      "output =  london\n",
      "['James', 'Bible', 'are']\n",
      "Index=5\n",
      "output =  are\n",
      "['Bible', 'london']\n"
     ]
    }
   ],
   "source": [
    "window_size=2\n",
    "\n",
    "df = ['The', 'King', 'James', 'Bible',\"london\",'are']\n",
    "\n",
    "sen_length = len(df)\n",
    "print(\"Sentence Length={0}\".format(sen_length))\n",
    "print(df)\n",
    "\n",
    "print(\"\\n\")\n",
    "\n",
    "for index,word in enumerate(df):\n",
    "    \n",
    "    start = index - window_size\n",
    "    end = index + window_size + 1\n",
    "    \n",
    "    #print(\"Start=\",start)\n",
    "    #print(\"End=\",end)\n",
    "    \n",
    "    print(\"Index={0}\".format(index))\n",
    "    \n",
    "    print(\"output = \",word)\n",
    "    print([df[i] for i in range(start,end) if 0<= i < sen_length and i != index])"
   ]
  },
  {
   "cell_type": "code",
   "execution_count": null,
   "metadata": {},
   "outputs": [],
   "source": []
  }
 ],
 "metadata": {
  "kernelspec": {
   "display_name": "Python 3",
   "language": "python",
   "name": "python3"
  },
  "language_info": {
   "codemirror_mode": {
    "name": "ipython",
    "version": 3
   },
   "file_extension": ".py",
   "mimetype": "text/x-python",
   "name": "python",
   "nbconvert_exporter": "python",
   "pygments_lexer": "ipython3",
   "version": "3.7.4"
  }
 },
 "nbformat": 4,
 "nbformat_minor": 2
}
