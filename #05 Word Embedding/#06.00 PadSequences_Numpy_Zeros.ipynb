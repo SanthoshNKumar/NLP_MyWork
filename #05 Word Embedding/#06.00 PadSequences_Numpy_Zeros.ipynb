{
 "cells": [
  {
   "cell_type": "code",
   "execution_count": 1,
   "metadata": {},
   "outputs": [
    {
     "name": "stdout",
     "output_type": "stream",
     "text": [
      "{'i', 'fast', 'pleased', 'excellent', 'for', 'is', 'very', 'and', 'your', 'am', 'report', 'thanks', 'quick', 'service', 'an', 'with'} \n",
      "\n",
      "{'i': 1, 'fast': 2, 'pleased': 3, 'excellent': 4, 'for': 5, 'is': 6, 'very': 7, 'and': 8, 'your': 9, 'am': 10, 'report': 11, 'thanks': 12, 'quick': 13, 'service': 14, 'an': 15, 'with': 16} \n",
      "\n",
      "row=3 and column=7\n",
      "seq_embedding = \n",
      " [[0. 0. 0. 0. 0. 0. 0.]\n",
      " [0. 0. 0. 0. 0. 0. 0.]\n",
      " [0. 0. 0. 0. 0. 0. 0.]]\n",
      "\n",
      "\n",
      "[[12.  5. 15.  4. 11.  0.  0.]\n",
      " [ 9. 14.  6.  7. 13.  8.  2.]\n",
      " [ 1. 10.  3. 16.  9. 14.  0.]]\n"
     ]
    }
   ],
   "source": [
    "# Example 2:\n",
    "\n",
    "import numpy as np\n",
    "\n",
    "data = [['Thanks', 'for', 'an', 'excellent', 'report'],\n",
    "        ['Your', 'service', 'is', 'very', 'quick', 'and', 'fast'],\n",
    "        ['I', 'am', 'pleased', 'with', 'your', 'service']]\n",
    "\n",
    "wrds = []\n",
    "\n",
    "[[wrds.append(w.lower()) for w in x] for x in data]\n",
    "\n",
    "wrds = set(wrds)\n",
    "\n",
    "print(wrds,\"\\n\")\n",
    "\n",
    "word_id = {}\n",
    "\n",
    "for i,w in enumerate(wrds,1):\n",
    "    word_id[w] = i\n",
    "    \n",
    "print(word_id,\"\\n\")\n",
    "\n",
    "row = len(data)\n",
    "\n",
    "column = np.max([len(x) for x in data])\n",
    "\n",
    "print(\"row={0} and column={1}\".format(row,column))\n",
    "\n",
    "seq_embedding = np.zeros((row,column))\n",
    "\n",
    "print(\"seq_embedding = \\n {0}\".format(seq_embedding))\n",
    "\n",
    "print(\"\\n\")\n",
    "\n",
    "for i in range(len(data)):\n",
    "    doc = data[i]\n",
    "    for j in range(len(doc)):\n",
    "        id = word_id[(doc[j]).lower()]\n",
    "        seq_embedding[i][j] = id\n",
    "        \n",
    "print(seq_embedding)"
   ]
  },
  {
   "cell_type": "code",
   "execution_count": null,
   "metadata": {},
   "outputs": [],
   "source": []
  }
 ],
 "metadata": {
  "kernelspec": {
   "display_name": "Python 3",
   "language": "python",
   "name": "python3"
  },
  "language_info": {
   "codemirror_mode": {
    "name": "ipython",
    "version": 3
   },
   "file_extension": ".py",
   "mimetype": "text/x-python",
   "name": "python",
   "nbconvert_exporter": "python",
   "pygments_lexer": "ipython3",
   "version": "3.7.4"
  }
 },
 "nbformat": 4,
 "nbformat_minor": 2
}
