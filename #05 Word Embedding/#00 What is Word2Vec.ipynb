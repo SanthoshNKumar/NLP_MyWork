{
 "cells": [
  {
   "cell_type": "code",
   "execution_count": 1,
   "metadata": {},
   "outputs": [],
   "source": [
    "# Word2vec is not a single algorithm but a combination of two techniques – \n",
    "#  - CBOW(Continuous bag of words)\n",
    "#  - Skip-gram model.\n",
    "# Both of these are shallow neural networks(One Hidden layer) which map word(s) to the target variable which is also a word(s).\n",
    "# Both of these techniques learn weights which act as word vector representations. \n",
    "# Let us discuss both these methods separately and gain intuition into their working."
   ]
  },
  {
   "cell_type": "code",
   "execution_count": 2,
   "metadata": {},
   "outputs": [],
   "source": [
    "# What is Word2Vec?\n",
    "# Word2vec is the technique/model to produce word embedding for better word representation. \n",
    "# It captures a large number of precise syntactic and semantic word relationship."
   ]
  },
  {
   "cell_type": "code",
   "execution_count": 4,
   "metadata": {},
   "outputs": [],
   "source": [
    "# What word2vec does?\n",
    "# Word2vec represents words in vector space representation. \n",
    "# Words are represented in the form of vectors and placement is done in such a way that \n",
    "# similar meaning words appear together and dissimilar words are located far away.This is also termed as a semantic relationship. \n",
    "# Neural networks do not understand text instead they understand only numbers. \n",
    "# Word Embedding provides a way to convert text to a numeric vector."
   ]
  },
  {
   "cell_type": "code",
   "execution_count": null,
   "metadata": {},
   "outputs": [],
   "source": []
  }
 ],
 "metadata": {
  "kernelspec": {
   "display_name": "Python 3",
   "language": "python",
   "name": "python3"
  },
  "language_info": {
   "codemirror_mode": {
    "name": "ipython",
    "version": 3
   },
   "file_extension": ".py",
   "mimetype": "text/x-python",
   "name": "python",
   "nbconvert_exporter": "python",
   "pygments_lexer": "ipython3",
   "version": "3.7.4"
  }
 },
 "nbformat": 4,
 "nbformat_minor": 2
}
