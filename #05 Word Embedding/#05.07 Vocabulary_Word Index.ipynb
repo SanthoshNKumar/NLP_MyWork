{
 "cells": [
  {
   "cell_type": "code",
   "execution_count": 28,
   "metadata": {},
   "outputs": [
    {
     "name": "stdout",
     "output_type": "stream",
     "text": [
      "{'first', 'more', 'for', 'final', 'and', 'is', 'one', 'the', 'sentence', 'another', 'second', 'word2vec', 'yet', 'this'}\n"
     ]
    },
    {
     "data": {
      "text/plain": [
       "{'first': 1,\n",
       " 'more': 2,\n",
       " 'for': 3,\n",
       " 'final': 4,\n",
       " 'and': 5,\n",
       " 'is': 6,\n",
       " 'one': 7,\n",
       " 'the': 8,\n",
       " 'sentence': 9,\n",
       " 'another': 10,\n",
       " 'second': 11,\n",
       " 'word2vec': 12,\n",
       " 'yet': 13,\n",
       " 'this': 14}"
      ]
     },
     "execution_count": 28,
     "metadata": {},
     "output_type": "execute_result"
    }
   ],
   "source": [
    "# Example 1 : Using Enumerate and List Comprehension\n",
    "\n",
    "sentences = [\"this is the first sentence for word2vec\",\n",
    "              \"this is the second sentence\",\n",
    "              \"yet another sentence\",\n",
    "              \"one more sentence\",\n",
    "              \"and the final sentence\"]\n",
    "\n",
    "vocab = []\n",
    "\n",
    "[[vocab.append(w) for w in x.split()] for x in sentences]\n",
    "\n",
    "vocab = set(vocab)\n",
    "\n",
    "print(vocab)\n",
    "\n",
    "word_index = {}\n",
    "\n",
    "for i,word in enumerate(vocab,1):\n",
    "    word_index[word] = i\n",
    "    \n",
    "word_index"
   ]
  },
  {
   "cell_type": "code",
   "execution_count": 30,
   "metadata": {},
   "outputs": [
    {
     "data": {
      "text/plain": [
       "{'sentence': 1,\n",
       " 'the': 2,\n",
       " 'this': 3,\n",
       " 'is': 4,\n",
       " 'first': 5,\n",
       " 'for': 6,\n",
       " 'word2vec': 7,\n",
       " 'second': 8,\n",
       " 'yet': 9,\n",
       " 'another': 10,\n",
       " 'one': 11,\n",
       " 'more': 12,\n",
       " 'and': 13,\n",
       " 'final': 14}"
      ]
     },
     "execution_count": 30,
     "metadata": {},
     "output_type": "execute_result"
    }
   ],
   "source": [
    "# Example : using Keras Tokenizer\n",
    "\n",
    "from tensorflow.keras.preprocessing.text import Tokenizer\n",
    "\n",
    "t = Tokenizer()\n",
    "\n",
    "sentences = [\"this is the first sentence for word2vec\",\n",
    "              \"this is the second sentence\",\n",
    "              \"yet another sentence\",\n",
    "              \"one more sentence\",\n",
    "              \"and the final sentence\"]\n",
    "\n",
    "t.fit_on_texts(sentences)\n",
    "\n",
    "t.word_index"
   ]
  },
  {
   "cell_type": "code",
   "execution_count": 33,
   "metadata": {},
   "outputs": [
    {
     "name": "stdout",
     "output_type": "stream",
     "text": [
      "{'this': 11, 'is': 5, 'the': 10, 'first': 3, 'sentence': 9, 'for': 4, 'word2vec': 12, 'second': 8, 'yet': 13, 'another': 1, 'one': 7, 'more': 6, 'and': 0, 'final': 2}\n"
     ]
    }
   ],
   "source": [
    "# Example : using CountVectorizer\n",
    "\n",
    "from sklearn.feature_extraction.text import CountVectorizer\n",
    "\n",
    "# create the transform\n",
    "vectorizer = CountVectorizer()\n",
    "\n",
    "# tokenize and build vocab\n",
    "vectorizer.fit(sentences)\n",
    "\n",
    "# summarize\n",
    "print(vectorizer.vocabulary_)\n"
   ]
  },
  {
   "cell_type": "code",
   "execution_count": 38,
   "metadata": {},
   "outputs": [
    {
     "name": "stdout",
     "output_type": "stream",
     "text": [
      "{'this': 11, 'is': 5, 'the': 10, 'first': 3, 'sentence': 9, 'for': 4, 'word2vec': 12, 'second': 8, 'yet': 13, 'another': 1, 'one': 7, 'more': 6, 'and': 0, 'final': 2}\n"
     ]
    }
   ],
   "source": [
    "# Example : Using TfidfVectorizer\n",
    "\n",
    "from sklearn.feature_extraction.text import TfidfVectorizer\n",
    "\n",
    "# create the transform\n",
    "vectorizer = TfidfVectorizer()\n",
    "\n",
    "# tokenize and build vocab\n",
    "vectorizer.fit(sentences)\n",
    "\n",
    "# summarize\n",
    "print(vectorizer.vocabulary_)"
   ]
  },
  {
   "cell_type": "code",
   "execution_count": null,
   "metadata": {},
   "outputs": [],
   "source": []
  }
 ],
 "metadata": {
  "kernelspec": {
   "display_name": "Python 3",
   "language": "python",
   "name": "python3"
  },
  "language_info": {
   "codemirror_mode": {
    "name": "ipython",
    "version": 3
   },
   "file_extension": ".py",
   "mimetype": "text/x-python",
   "name": "python",
   "nbconvert_exporter": "python",
   "pygments_lexer": "ipython3",
   "version": "3.7.4"
  }
 },
 "nbformat": 4,
 "nbformat_minor": 2
}
