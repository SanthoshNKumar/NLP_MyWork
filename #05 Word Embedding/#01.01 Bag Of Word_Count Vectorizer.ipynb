{
 "cells": [
  {
   "cell_type": "code",
   "execution_count": 27,
   "metadata": {},
   "outputs": [],
   "source": [
    "import pandas as pd\n",
    "\n",
    "df =pd.DataFrame([\"Product arrived labeled as Jumbo Salted Peanuts the peanuts were actually small sized unsalted. Not sure if this was an error or if the vendor intended to represent the product as Jumbo.\",\n",
    "      \"This is a confection that has been around a few centuries.  It is a light, pillowy citrus gelatin with nuts in this case Filberts. And it is cut into tiny squares and then liberally coated with powdered sugar.  And it is a tiny mouthful of heaven.  Not too chewy, and very flavorful.  I highly recommend this yummy treat.  If you are familiar with the story of C.S. Lewis  '   The Lion, The Witch, and The Wardrobe this is the treat that seduces Edmund into selling out his Brother and Sisters to the Witch.\",\n",
    "      \"If you are looking for the secret ingredient in Robitussin I believe I have found it.  I got this in addition to the Root Beer Extract I ordered (which was good) and made some cherry soda.  The flavor is very medicinal.\",\n",
    "      \"Great taffy at a great price.  There was a wide assortment of yummy taffy.  Delivery was very quick.  If your a taffy lover, this is a deal.\",\n",
    "      \"I got a wild hair for taffy and ordered this five pound bag. The taffy was all very enjoyable with many flavors: watermelon, root beer, melon, peppermint, grape, etc. My only complaint is there was a bit too much red black licorice-flavored pieces (just not my particular favorites). Between me, my kids, and my husband, this lasted only two weeks I would recommend this brand of taffy  it was a delightful treat.\",\n",
    "      \"This saltwater taffy had great flavors and was very soft and chewy.  Each candy was individually wrapped well.  None of the candies were stuck together, which did happen in the expensive version, Fralinger's.  Would highly recommend this candy  I served it at a beach-themed party and everyone loved it\"],columns=['Text'])"
   ]
  },
  {
   "cell_type": "code",
   "execution_count": 28,
   "metadata": {},
   "outputs": [],
   "source": [
    "from sklearn.feature_extraction.text import CountVectorizer\n",
    "\n",
    "vect = CountVectorizer().fit(df['Text'])"
   ]
  },
  {
   "cell_type": "code",
   "execution_count": 29,
   "metadata": {},
   "outputs": [
    {
     "name": "stdout",
     "output_type": "stream",
     "text": [
      "{'product': 116, 'arrived': 7, 'labeled': 81, 'as': 8, 'jumbo': 78, 'salted': 123, 'peanuts': 109, 'the': 142, 'were': 162, 'actually': 0, 'small': 131, 'sized': 130, 'unsalted': 153, 'not': 100, 'sure': 139, 'if': 70, 'this': 146, 'was': 158, 'an': 3, 'error': 39, 'or': 104, 'vendor': 154, 'intended': 74, 'to': 148, 'represent': 120, 'is': 76, 'confection': 30, 'that': 141, 'has': 64, 'been': 13, 'around': 6, 'few': 46, 'centuries': 24, 'it': 77, 'light': 86, 'pillowy': 112, 'citrus': 27, 'gelatin': 56, 'with': 167, 'nuts': 101, 'in': 71, 'case': 23, 'filberts': 47, 'and': 4, 'cut': 31, 'into': 75, 'tiny': 147, 'squares': 135, 'then': 144, 'liberally': 84, 'coated': 28, 'powdered': 114, 'sugar': 138, 'mouthful': 96, 'of': 102, 'heaven': 66, 'too': 150, 'chewy': 26, 'very': 156, 'flavorful': 51, 'highly': 67, 'recommend': 118, 'yummy': 172, 'treat': 151, 'you': 170, 'are': 5, 'familiar': 44, 'story': 136, 'lewis': 83, 'lion': 87, 'witch': 166, 'wardrobe': 157, 'seduces': 126, 'edmund': 37, 'selling': 127, 'out': 106, 'his': 68, 'brother': 20, 'sisters': 129, 'looking': 88, 'for': 53, 'secret': 125, 'ingredient': 73, 'robitussin': 121, 'believe': 15, 'have': 65, 'found': 54, 'got': 58, 'addition': 1, 'root': 122, 'beer': 14, 'extract': 43, 'ordered': 105, 'which': 163, 'good': 57, 'made': 91, 'some': 134, 'cherry': 25, 'soda': 132, 'flavor': 49, 'medicinal': 94, 'great': 60, 'taffy': 140, 'at': 10, 'price': 115, 'there': 145, 'wide': 164, 'assortment': 9, 'delivery': 34, 'quick': 117, 'your': 171, 'lover': 90, 'deal': 32, 'wild': 165, 'hair': 62, 'five': 48, 'pound': 113, 'bag': 11, 'all': 2, 'enjoyable': 38, 'many': 92, 'flavors': 52, 'watermelon': 159, 'melon': 95, 'peppermint': 110, 'grape': 59, 'etc': 40, 'my': 98, 'only': 103, 'complaint': 29, 'bit': 17, 'much': 97, 'red': 119, 'black': 18, 'licorice': 85, 'flavored': 50, 'pieces': 111, 'just': 79, 'particular': 107, 'favorites': 45, 'between': 16, 'me': 93, 'kids': 80, 'husband': 69, 'lasted': 82, 'two': 152, 'weeks': 160, 'would': 168, 'brand': 19, 'delightful': 33, 'saltwater': 124, 'had': 61, 'soft': 133, 'each': 36, 'candy': 22, 'individually': 72, 'wrapped': 169, 'well': 161, 'none': 99, 'candies': 21, 'stuck': 137, 'together': 149, 'did': 35, 'happen': 63, 'expensive': 42, 'version': 155, 'fralinger': 55, 'served': 128, 'beach': 12, 'themed': 143, 'party': 108, 'everyone': 41, 'loved': 89}\n"
     ]
    }
   ],
   "source": [
    "# summarize\n",
    "\n",
    "print(vect.vocabulary_)"
   ]
  },
  {
   "cell_type": "code",
   "execution_count": 30,
   "metadata": {},
   "outputs": [
    {
     "data": {
      "text/plain": [
       "['actually',\n",
       " 'addition',\n",
       " 'all',\n",
       " 'an',\n",
       " 'and',\n",
       " 'are',\n",
       " 'around',\n",
       " 'arrived',\n",
       " 'as',\n",
       " 'assortment',\n",
       " 'at',\n",
       " 'bag',\n",
       " 'beach',\n",
       " 'been',\n",
       " 'beer',\n",
       " 'believe',\n",
       " 'between',\n",
       " 'bit',\n",
       " 'black',\n",
       " 'brand',\n",
       " 'brother',\n",
       " 'candies',\n",
       " 'candy',\n",
       " 'case',\n",
       " 'centuries',\n",
       " 'cherry',\n",
       " 'chewy',\n",
       " 'citrus',\n",
       " 'coated',\n",
       " 'complaint',\n",
       " 'confection',\n",
       " 'cut',\n",
       " 'deal',\n",
       " 'delightful',\n",
       " 'delivery',\n",
       " 'did',\n",
       " 'each',\n",
       " 'edmund',\n",
       " 'enjoyable',\n",
       " 'error',\n",
       " 'etc',\n",
       " 'everyone',\n",
       " 'expensive',\n",
       " 'extract',\n",
       " 'familiar',\n",
       " 'favorites',\n",
       " 'few',\n",
       " 'filberts',\n",
       " 'five',\n",
       " 'flavor',\n",
       " 'flavored',\n",
       " 'flavorful',\n",
       " 'flavors',\n",
       " 'for',\n",
       " 'found',\n",
       " 'fralinger',\n",
       " 'gelatin',\n",
       " 'good',\n",
       " 'got',\n",
       " 'grape',\n",
       " 'great',\n",
       " 'had',\n",
       " 'hair',\n",
       " 'happen',\n",
       " 'has',\n",
       " 'have',\n",
       " 'heaven',\n",
       " 'highly',\n",
       " 'his',\n",
       " 'husband',\n",
       " 'if',\n",
       " 'in',\n",
       " 'individually',\n",
       " 'ingredient',\n",
       " 'intended',\n",
       " 'into',\n",
       " 'is',\n",
       " 'it',\n",
       " 'jumbo',\n",
       " 'just',\n",
       " 'kids',\n",
       " 'labeled',\n",
       " 'lasted',\n",
       " 'lewis',\n",
       " 'liberally',\n",
       " 'licorice',\n",
       " 'light',\n",
       " 'lion',\n",
       " 'looking',\n",
       " 'loved',\n",
       " 'lover',\n",
       " 'made',\n",
       " 'many',\n",
       " 'me',\n",
       " 'medicinal',\n",
       " 'melon',\n",
       " 'mouthful',\n",
       " 'much',\n",
       " 'my',\n",
       " 'none',\n",
       " 'not',\n",
       " 'nuts',\n",
       " 'of',\n",
       " 'only',\n",
       " 'or',\n",
       " 'ordered',\n",
       " 'out',\n",
       " 'particular',\n",
       " 'party',\n",
       " 'peanuts',\n",
       " 'peppermint',\n",
       " 'pieces',\n",
       " 'pillowy',\n",
       " 'pound',\n",
       " 'powdered',\n",
       " 'price',\n",
       " 'product',\n",
       " 'quick',\n",
       " 'recommend',\n",
       " 'red',\n",
       " 'represent',\n",
       " 'robitussin',\n",
       " 'root',\n",
       " 'salted',\n",
       " 'saltwater',\n",
       " 'secret',\n",
       " 'seduces',\n",
       " 'selling',\n",
       " 'served',\n",
       " 'sisters',\n",
       " 'sized',\n",
       " 'small',\n",
       " 'soda',\n",
       " 'soft',\n",
       " 'some',\n",
       " 'squares',\n",
       " 'story',\n",
       " 'stuck',\n",
       " 'sugar',\n",
       " 'sure',\n",
       " 'taffy',\n",
       " 'that',\n",
       " 'the',\n",
       " 'themed',\n",
       " 'then',\n",
       " 'there',\n",
       " 'this',\n",
       " 'tiny',\n",
       " 'to',\n",
       " 'together',\n",
       " 'too',\n",
       " 'treat',\n",
       " 'two',\n",
       " 'unsalted',\n",
       " 'vendor',\n",
       " 'version',\n",
       " 'very',\n",
       " 'wardrobe',\n",
       " 'was',\n",
       " 'watermelon',\n",
       " 'weeks',\n",
       " 'well',\n",
       " 'were',\n",
       " 'which',\n",
       " 'wide',\n",
       " 'wild',\n",
       " 'witch',\n",
       " 'with',\n",
       " 'would',\n",
       " 'wrapped',\n",
       " 'you',\n",
       " 'your',\n",
       " 'yummy']"
      ]
     },
     "execution_count": 30,
     "metadata": {},
     "output_type": "execute_result"
    }
   ],
   "source": [
    "vect.get_feature_names()"
   ]
  },
  {
   "cell_type": "code",
   "execution_count": 31,
   "metadata": {},
   "outputs": [
    {
     "data": {
      "text/plain": [
       "173"
      ]
     },
     "execution_count": 31,
     "metadata": {},
     "output_type": "execute_result"
    }
   ],
   "source": [
    "len(vect.vocabulary_) # Vocab_size"
   ]
  },
  {
   "cell_type": "code",
   "execution_count": 32,
   "metadata": {},
   "outputs": [],
   "source": [
    "# encode document\n",
    "vector = vect.transform(df['Text'])"
   ]
  },
  {
   "cell_type": "code",
   "execution_count": 33,
   "metadata": {},
   "outputs": [
    {
     "name": "stdout",
     "output_type": "stream",
     "text": [
      "(6, 173)\n",
      "<class 'scipy.sparse.csr.csr_matrix'>\n",
      "[[1 0 0 ... 0 0 0]\n",
      " [0 0 0 ... 1 0 1]\n",
      " [0 1 0 ... 1 0 0]\n",
      " [0 0 0 ... 0 1 1]\n",
      " [0 0 1 ... 0 0 0]\n",
      " [0 0 0 ... 0 0 0]]\n"
     ]
    }
   ],
   "source": [
    "# summarize encoded vector\n",
    "print(vector.shape)\n",
    "\n",
    "print(type(vector))\n",
    "\n",
    "print(vector.toarray())"
   ]
  },
  {
   "cell_type": "code",
   "execution_count": 34,
   "metadata": {},
   "outputs": [
    {
     "data": {
      "text/plain": [
       "array([1, 0, 0, 1, 0, 0, 0, 1, 2, 0, 0, 0, 0, 0, 0, 0, 0, 0, 0, 0, 0, 0,\n",
       "       0, 0, 0, 0, 0, 0, 0, 0, 0, 0, 0, 0, 0, 0, 0, 0, 0, 1, 0, 0, 0, 0,\n",
       "       0, 0, 0, 0, 0, 0, 0, 0, 0, 0, 0, 0, 0, 0, 0, 0, 0, 0, 0, 0, 0, 0,\n",
       "       0, 0, 0, 0, 2, 0, 0, 0, 1, 0, 0, 0, 2, 0, 0, 1, 0, 0, 0, 0, 0, 0,\n",
       "       0, 0, 0, 0, 0, 0, 0, 0, 0, 0, 0, 0, 1, 0, 0, 0, 1, 0, 0, 0, 0, 2,\n",
       "       0, 0, 0, 0, 0, 0, 2, 0, 0, 0, 1, 0, 0, 1, 0, 0, 0, 0, 0, 0, 1, 1,\n",
       "       0, 0, 0, 0, 0, 0, 0, 1, 0, 0, 3, 0, 0, 0, 1, 0, 1, 0, 0, 0, 0, 1,\n",
       "       1, 0, 0, 0, 1, 0, 0, 0, 1, 0, 0, 0, 0, 0, 0, 0, 0, 0, 0],\n",
       "      dtype=int64)"
      ]
     },
     "execution_count": 34,
     "metadata": {},
     "output_type": "execute_result"
    }
   ],
   "source": [
    "vector.toarray()[0]"
   ]
  },
  {
   "cell_type": "code",
   "execution_count": null,
   "metadata": {},
   "outputs": [],
   "source": []
  },
  {
   "cell_type": "code",
   "execution_count": null,
   "metadata": {},
   "outputs": [],
   "source": []
  }
 ],
 "metadata": {
  "kernelspec": {
   "display_name": "Python 3",
   "language": "python",
   "name": "python3"
  },
  "language_info": {
   "codemirror_mode": {
    "name": "ipython",
    "version": 3
   },
   "file_extension": ".py",
   "mimetype": "text/x-python",
   "name": "python",
   "nbconvert_exporter": "python",
   "pygments_lexer": "ipython3",
   "version": "3.7.4"
  }
 },
 "nbformat": 4,
 "nbformat_minor": 2
}
