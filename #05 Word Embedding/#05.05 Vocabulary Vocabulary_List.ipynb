{
 "cells": [
  {
   "cell_type": "code",
   "execution_count": 30,
   "metadata": {},
   "outputs": [],
   "source": [
    "import numpy  as np\n",
    "\n",
    "# define training data\n",
    "sentences = [['this', 'is', 'the', 'first', 'sentence', 'for', 'word2vec'],\n",
    "            ['this', 'is', 'the', 'second', 'sentence'],\n",
    "            ['yet', 'another', 'sentence'],\n",
    "            ['one', 'more', 'sentence'],\n",
    "            ['and', 'the', 'final', 'sentence']]"
   ]
  },
  {
   "cell_type": "code",
   "execution_count": 31,
   "metadata": {},
   "outputs": [
    {
     "name": "stdout",
     "output_type": "stream",
     "text": [
      "{'is', 'another', 'for', 'the', 'and', 'final', 'yet', 'word2vec', 'second', 'sentence', 'more', 'first', 'one', 'this'}\n"
     ]
    }
   ],
   "source": [
    "# 1. Using List comprehension and Set Function generate the Vocavulary\n",
    "\n",
    "vocab= []\n",
    "\n",
    "[[vocab.append(w) for w in x] for x in sentences]\n",
    "\n",
    "vocab = set(vocab)\n",
    "\n",
    "print(vocab)"
   ]
  },
  {
   "cell_type": "code",
   "execution_count": 26,
   "metadata": {},
   "outputs": [
    {
     "name": "stdout",
     "output_type": "stream",
     "text": [
      "{'this': 7, 'is': 3, 'the': 6, 'first': 1, 'sentence': 5, 'for': 2, 'word2vec': 8, 'second': 4, 'yet': 9, 'another': 0}\n",
      "\n",
      "\n",
      "dict_keys(['this', 'is', 'the', 'first', 'sentence', 'for', 'word2vec', 'second', 'yet', 'another'])\n"
     ]
    }
   ],
   "source": [
    "# 2 Using Counter Vectorizer\n",
    "\n",
    "from sklearn.feature_extraction.text import CountVectorizer\n",
    "\n",
    "sentences = ['this is the first sentence for word2vec','this is the second sentence','yet another sentence']\n",
    "\n",
    "# create the transform\n",
    "vectorizer = CountVectorizer()\n",
    "\n",
    "# tokenize and build vocab\n",
    "vectorizer.fit(sentences)\n",
    "\n",
    "# summarize\n",
    "print(vectorizer.vocabulary_)\n",
    "print(\"\\n\")\n",
    "print(vectorizer.vocabulary_.keys())"
   ]
  },
  {
   "cell_type": "code",
   "execution_count": 36,
   "metadata": {},
   "outputs": [
    {
     "data": {
      "text/plain": [
       "dict_keys(['this', 'is', 'the', 'first', 'sentence', 'for', 'word2vec', 'second', 'yet', 'another'])"
      ]
     },
     "execution_count": 36,
     "metadata": {},
     "output_type": "execute_result"
    }
   ],
   "source": [
    "#3 : using gensim\n",
    "\n",
    "from gensim.models import Word2Vec\n",
    "\n",
    "# define training data\n",
    "sentences = [['this', 'is', 'the', 'first', 'sentence', 'for', 'word2vec'],\n",
    "            ['this', 'is', 'the', 'second', 'sentence'],\n",
    "            ['yet', 'another', 'sentence']]\n",
    "\n",
    "model = Word2Vec(sentences, min_count=1)\n",
    "\n",
    "model.wv.vocab.keys()"
   ]
  },
  {
   "cell_type": "code",
   "execution_count": 43,
   "metadata": {},
   "outputs": [
    {
     "name": "stdout",
     "output_type": "stream",
     "text": [
      "['awesome', 'funny', 'hate', 'it', 'like', 'love', 'movie', 'nice', 'one', 'this', 'was']\n"
     ]
    }
   ],
   "source": [
    "# 4 : Using Tf IDF\n",
    "\n",
    "documents = [\"I like this movie it's funny.\",\"I hate this movie.\",\"This was awesome! I like it.\",\"Nice one I love it.\"]\n",
    "\n",
    "from sklearn.feature_extraction.text import TfidfVectorizer\n",
    "import pandas as pd\n",
    "\n",
    "tfidf_vectorizer = TfidfVectorizer()\n",
    "\n",
    "values = tfidf_vectorizer.fit_transform(documents)\n",
    "\n",
    "# Show the Model as a pandas DataFrame\n",
    "feature_names = tfidf_vectorizer.get_feature_names()\n",
    "\n",
    "print(feature_names)"
   ]
  },
  {
   "cell_type": "code",
   "execution_count": 2,
   "metadata": {},
   "outputs": [
    {
     "name": "stdout",
     "output_type": "stream",
     "text": [
      "word_index :  ['sentence', 'the', 'this', 'is', 'first', 'for', 'word2vec', 'second', 'yet', 'another', 'one', 'more', 'and', 'final']\n"
     ]
    }
   ],
   "source": [
    "# 5 : Using Keras Tokenizer\n",
    "\n",
    "from tensorflow.keras.preprocessing.text import Tokenizer\n",
    "\n",
    "t = Tokenizer()\n",
    "\n",
    "sentences = [\"this is the first sentence for word2vec\",\n",
    "              \"this is the second sentence\",\n",
    "              \"yet another sentence\",\n",
    "              \"one more sentence\",\n",
    "              \"and the final sentence\"]\n",
    "\n",
    "t.fit_on_texts(sentences)\n",
    "\n",
    "print('word_index : ',list(t.word_index.keys()))"
   ]
  },
  {
   "cell_type": "code",
   "execution_count": null,
   "metadata": {},
   "outputs": [],
   "source": []
  }
 ],
 "metadata": {
  "kernelspec": {
   "display_name": "Python 3",
   "language": "python",
   "name": "python3"
  },
  "language_info": {
   "codemirror_mode": {
    "name": "ipython",
    "version": 3
   },
   "file_extension": ".py",
   "mimetype": "text/x-python",
   "name": "python",
   "nbconvert_exporter": "python",
   "pygments_lexer": "ipython3",
   "version": "3.7.4"
  }
 },
 "nbformat": 4,
 "nbformat_minor": 2
}
