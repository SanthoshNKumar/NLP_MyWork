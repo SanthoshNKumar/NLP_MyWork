{
 "cells": [
  {
   "cell_type": "code",
   "execution_count": 1,
   "metadata": {},
   "outputs": [],
   "source": [
    "data = [['Thanks', 'for', 'an', 'excellent', 'report'],\n",
    "        ['Your', 'service', 'is', 'very', 'quick', 'and', 'fast'],\n",
    "        ['I', 'am', 'pleased', 'with', 'your', 'service'],\n",
    "        ['I', 'am', 'pleased', 'with', 'your', 'service']]\n",
    "\n",
    "wrds = []"
   ]
  },
  {
   "cell_type": "code",
   "execution_count": 2,
   "metadata": {},
   "outputs": [
    {
     "data": {
      "text/plain": [
       "{'am',\n",
       " 'an',\n",
       " 'and',\n",
       " 'excellent',\n",
       " 'fast',\n",
       " 'for',\n",
       " 'i',\n",
       " 'is',\n",
       " 'pleased',\n",
       " 'quick',\n",
       " 'report',\n",
       " 'service',\n",
       " 'thanks',\n",
       " 'very',\n",
       " 'with',\n",
       " 'your'}"
      ]
     },
     "execution_count": 2,
     "metadata": {},
     "output_type": "execute_result"
    }
   ],
   "source": [
    "[[wrds.append(w.lower()) for w in x] for x in data]\n",
    "\n",
    "wrds = set(wrds)\n",
    "\n",
    "wrds"
   ]
  },
  {
   "cell_type": "code",
   "execution_count": 3,
   "metadata": {},
   "outputs": [],
   "source": [
    "word_id = {}\n",
    "\n",
    "for i,w in enumerate(wrds):\n",
    "    word_id[w] = i"
   ]
  },
  {
   "cell_type": "code",
   "execution_count": 4,
   "metadata": {},
   "outputs": [
    {
     "data": {
      "text/plain": [
       "{'your': 0,\n",
       " 'excellent': 1,\n",
       " 'for': 2,\n",
       " 'very': 3,\n",
       " 'fast': 4,\n",
       " 'i': 5,\n",
       " 'quick': 6,\n",
       " 'and': 7,\n",
       " 'service': 8,\n",
       " 'is': 9,\n",
       " 'pleased': 10,\n",
       " 'with': 11,\n",
       " 'report': 12,\n",
       " 'am': 13,\n",
       " 'an': 14,\n",
       " 'thanks': 15}"
      ]
     },
     "execution_count": 4,
     "metadata": {},
     "output_type": "execute_result"
    }
   ],
   "source": [
    "word_id"
   ]
  },
  {
   "cell_type": "code",
   "execution_count": 5,
   "metadata": {},
   "outputs": [],
   "source": [
    "row = len(data)"
   ]
  },
  {
   "cell_type": "code",
   "execution_count": 6,
   "metadata": {},
   "outputs": [
    {
     "data": {
      "text/plain": [
       "4"
      ]
     },
     "execution_count": 6,
     "metadata": {},
     "output_type": "execute_result"
    }
   ],
   "source": [
    "row"
   ]
  },
  {
   "cell_type": "code",
   "execution_count": 7,
   "metadata": {},
   "outputs": [
    {
     "name": "stdout",
     "output_type": "stream",
     "text": [
      "vocab_size= 16\n"
     ]
    }
   ],
   "source": [
    "vocab_size = len(word_id)\n",
    "\n",
    "print(\"vocab_size=\",vocab_size)"
   ]
  },
  {
   "cell_type": "code",
   "execution_count": 8,
   "metadata": {},
   "outputs": [],
   "source": [
    "import numpy as np\n",
    "onehot = np.zeros((row,18))"
   ]
  },
  {
   "cell_type": "code",
   "execution_count": 9,
   "metadata": {},
   "outputs": [
    {
     "name": "stdout",
     "output_type": "stream",
     "text": [
      "['Thanks', 'for', 'an', 'excellent', 'report']\n",
      "word = Thanks and id = 15\n",
      "word = for and id = 2\n",
      "word = an and id = 14\n",
      "word = excellent and id = 1\n",
      "word = report and id = 12\n",
      "['Your', 'service', 'is', 'very', 'quick', 'and', 'fast']\n",
      "word = Your and id = 0\n",
      "word = service and id = 8\n",
      "word = is and id = 9\n",
      "word = very and id = 3\n",
      "word = quick and id = 6\n",
      "word = and and id = 7\n",
      "word = fast and id = 4\n",
      "['I', 'am', 'pleased', 'with', 'your', 'service']\n",
      "word = I and id = 5\n",
      "word = am and id = 13\n",
      "word = pleased and id = 10\n",
      "word = with and id = 11\n",
      "word = your and id = 0\n",
      "word = service and id = 8\n",
      "['I', 'am', 'pleased', 'with', 'your', 'service']\n",
      "word = I and id = 5\n",
      "word = am and id = 13\n",
      "word = pleased and id = 10\n",
      "word = with and id = 11\n",
      "word = your and id = 0\n",
      "word = service and id = 8\n"
     ]
    },
    {
     "data": {
      "text/plain": [
       "array([[0., 1., 1., 0., 0., 0., 0., 0., 0., 0., 0., 0., 1., 0., 1., 1.,\n",
       "        0., 0.],\n",
       "       [1., 0., 0., 1., 1., 0., 1., 1., 1., 1., 0., 0., 0., 0., 0., 0.,\n",
       "        0., 0.],\n",
       "       [1., 0., 0., 0., 0., 1., 0., 0., 1., 0., 1., 1., 0., 1., 0., 0.,\n",
       "        0., 0.],\n",
       "       [1., 0., 0., 0., 0., 1., 0., 0., 1., 0., 1., 1., 0., 1., 0., 0.,\n",
       "        0., 0.]])"
      ]
     },
     "execution_count": 9,
     "metadata": {},
     "output_type": "execute_result"
    }
   ],
   "source": [
    "for i in range(len(data)):\n",
    "    doc = data[i]\n",
    "    print(doc)\n",
    "    for j in range(len(doc)):\n",
    "        id = word_id[(doc[j]).lower()]\n",
    "        print('word = {0} and id = {1}'.format(doc[j],id))\n",
    "        \n",
    "        onehot[i][id] = 1\n",
    "        \n",
    "onehot"
   ]
  },
  {
   "cell_type": "code",
   "execution_count": null,
   "metadata": {},
   "outputs": [],
   "source": []
  },
  {
   "cell_type": "code",
   "execution_count": null,
   "metadata": {},
   "outputs": [],
   "source": []
  }
 ],
 "metadata": {
  "kernelspec": {
   "display_name": "Python 3",
   "language": "python",
   "name": "python3"
  },
  "language_info": {
   "codemirror_mode": {
    "name": "ipython",
    "version": 3
   },
   "file_extension": ".py",
   "mimetype": "text/x-python",
   "name": "python",
   "nbconvert_exporter": "python",
   "pygments_lexer": "ipython3",
   "version": "3.7.4"
  }
 },
 "nbformat": 4,
 "nbformat_minor": 2
}
