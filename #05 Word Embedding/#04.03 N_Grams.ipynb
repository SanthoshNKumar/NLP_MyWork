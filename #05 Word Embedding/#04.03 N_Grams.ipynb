{
 "cells": [
  {
   "cell_type": "code",
   "execution_count": 1,
   "metadata": {},
   "outputs": [
    {
     "data": {
      "text/plain": [
       "[['this', 'is'], ['is', 'a'], ['a', 'sample'], ['sample', 'text']]"
      ]
     },
     "execution_count": 1,
     "metadata": {},
     "output_type": "execute_result"
    }
   ],
   "source": [
    "#  N-Grams as Features\n",
    "# A combination of N words together are called N-Grams. N grams (N > 1) are generally more informative as \n",
    "# compared to words (Unigrams) as features. \n",
    "# Also, bigrams (N = 2) are considered as the most important features of all the others.\n",
    "\n",
    "def generate_ngrams(text,n):\n",
    "    words = text.split()\n",
    "    output= []\n",
    "    for i in range(len(words) - n+1):\n",
    "        output.append(words[i:i+n])\n",
    "    return output\n",
    "\n",
    "generate_ngrams('this is a sample text', 2)"
   ]
  },
  {
   "cell_type": "code",
   "execution_count": null,
   "metadata": {},
   "outputs": [],
   "source": []
  },
  {
   "cell_type": "code",
   "execution_count": 2,
   "metadata": {},
   "outputs": [
    {
     "data": {
      "text/plain": [
       "['Hi', 'how', 'are', 'you']"
      ]
     },
     "execution_count": 2,
     "metadata": {},
     "output_type": "execute_result"
    }
   ],
   "source": [
    "data = \"Hi how are you\"\n",
    "\n",
    "data = data.split()\n",
    "\n",
    "data"
   ]
  },
  {
   "cell_type": "code",
   "execution_count": 3,
   "metadata": {},
   "outputs": [
    {
     "name": "stdout",
     "output_type": "stream",
     "text": [
      "['Hi', 'how']\n",
      "['how', 'are']\n",
      "['are', 'you']\n"
     ]
    }
   ],
   "source": [
    "ngram =2\n",
    "\n",
    "for i in range(len(data) - (ngram -1)):\n",
    "    \n",
    "    start = i\n",
    "    end = ngram + i\n",
    "    print(data[start : end])\n",
    "    "
   ]
  },
  {
   "cell_type": "code",
   "execution_count": 4,
   "metadata": {},
   "outputs": [
    {
     "name": "stdout",
     "output_type": "stream",
     "text": [
      "Input = ['Hi', 'how'] and output =are\n",
      "Input = ['how', 'are'] and output =you\n"
     ]
    }
   ],
   "source": [
    "# collect Input and output data\n",
    "\n",
    "ngram = 2\n",
    "for i in range(len(data) - (ngram)):\n",
    "    start = i\n",
    "    end = ngram + i\n",
    "    \n",
    "    input = data[start : end]\n",
    "    output = data[end]\n",
    "    print(\"Input = {0} and output ={1}\".format(input,output))"
   ]
  },
  {
   "cell_type": "code",
   "execution_count": 5,
   "metadata": {},
   "outputs": [
    {
     "name": "stdout",
     "output_type": "stream",
     "text": [
      "<zip object at 0x0000026260C94288>\n"
     ]
    }
   ],
   "source": [
    "string = \"I really like python, it's pretty awesome.\"\n",
    "\n",
    "def find_bigrams(s):\n",
    "    input_list = s.split(\" \")\n",
    "    return zip(input_list, input_list[1:])\n",
    "\n",
    "print(find_bigrams(string))"
   ]
  },
  {
   "cell_type": "code",
   "execution_count": null,
   "metadata": {},
   "outputs": [],
   "source": []
  }
 ],
 "metadata": {
  "kernelspec": {
   "display_name": "Python 3",
   "language": "python",
   "name": "python3"
  },
  "language_info": {
   "codemirror_mode": {
    "name": "ipython",
    "version": 3
   },
   "file_extension": ".py",
   "mimetype": "text/x-python",
   "name": "python",
   "nbconvert_exporter": "python",
   "pygments_lexer": "ipython3",
   "version": "3.7.4"
  }
 },
 "nbformat": 4,
 "nbformat_minor": 2
}
