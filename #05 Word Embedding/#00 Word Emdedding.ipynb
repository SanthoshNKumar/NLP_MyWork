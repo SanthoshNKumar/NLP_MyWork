{
 "cells": [
  {
   "cell_type": "code",
   "execution_count": null,
   "metadata": {},
   "outputs": [],
   "source": [
    "# Word Embedding is a language modeling technique used for mapping words to vectors of real numbers. \n",
    "# It represents words or phrases in vector space with several dimensions.\n",
    "# Word embeddings can be generated using various methods like neural networks, co-occurrence matrix, probabilistic models, etc.\n",
    "\n",
    "# Word2Vec consists of models for generating word embedding. \n",
    "# These models are shallow two layer neural networks having one input layer,\n",
    "# one hidden layer and one output layer. Word2Vec utilizes two architectures :"
   ]
  }
 ],
 "metadata": {
  "kernelspec": {
   "display_name": "Python 3",
   "language": "python",
   "name": "python3"
  },
  "language_info": {
   "codemirror_mode": {
    "name": "ipython",
    "version": 3
   },
   "file_extension": ".py",
   "mimetype": "text/x-python",
   "name": "python",
   "nbconvert_exporter": "python",
   "pygments_lexer": "ipython3",
   "version": "3.7.4"
  }
 },
 "nbformat": 4,
 "nbformat_minor": 2
}
