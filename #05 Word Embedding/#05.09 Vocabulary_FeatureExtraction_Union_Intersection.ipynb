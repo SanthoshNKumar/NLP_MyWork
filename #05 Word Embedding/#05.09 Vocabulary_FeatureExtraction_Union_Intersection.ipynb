{
 "cells": [
  {
   "cell_type": "code",
   "execution_count": 1,
   "metadata": {},
   "outputs": [
    {
     "name": "stdout",
     "output_type": "stream",
     "text": [
      "Union: {'How', 'I', 'am', 'You'}\n",
      "Intersection {'How', 'fine', 'about', 'are', 'I', 'You', 'Hi', 'Hello', 'am'}\n"
     ]
    }
   ],
   "source": [
    "document1 = ['Hi', 'How','are','You', 'I','am']\n",
    "document2 = ['Hello','I','am','fine','How','about','You']\n",
    "\n",
    "\n",
    "#Intersection : common words across two documents\n",
    "print(\"Union:\",set(document1) & set(document2))\n",
    "\n",
    "#Union : words from two documents\n",
    "print(\"Intersection\",set(document1) | set(document2))\n"
   ]
  },
  {
   "cell_type": "code",
   "execution_count": null,
   "metadata": {},
   "outputs": [],
   "source": []
  }
 ],
 "metadata": {
  "kernelspec": {
   "display_name": "Python 3",
   "language": "python",
   "name": "python3"
  },
  "language_info": {
   "codemirror_mode": {
    "name": "ipython",
    "version": 3
   },
   "file_extension": ".py",
   "mimetype": "text/x-python",
   "name": "python",
   "nbconvert_exporter": "python",
   "pygments_lexer": "ipython3",
   "version": "3.7.4"
  }
 },
 "nbformat": 4,
 "nbformat_minor": 2
}
