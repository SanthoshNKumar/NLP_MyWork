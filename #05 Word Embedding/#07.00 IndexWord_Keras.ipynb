{
 "cells": [
  {
   "cell_type": "code",
   "execution_count": 5,
   "metadata": {},
   "outputs": [
    {
     "data": {
      "text/plain": [
       "{1: 'work',\n",
       " 2: 'well',\n",
       " 3: 'done',\n",
       " 4: 'good',\n",
       " 5: 'great',\n",
       " 6: 'effort',\n",
       " 7: 'nice',\n",
       " 8: 'excellent'}"
      ]
     },
     "execution_count": 5,
     "metadata": {},
     "output_type": "execute_result"
    }
   ],
   "source": [
    "# Example : using Keras Tokenizer\n",
    "\n",
    "from keras.preprocessing.text import Tokenizer\n",
    "\n",
    "# define 5 documents\n",
    "docs = ['Well done!',\n",
    "        'Good work',\n",
    "        'Great effort',\n",
    "        'nice work',\n",
    "        'Excellent!']\n",
    "\n",
    "t = Tokenizer()\n",
    "\n",
    "t.fit_on_texts(docs)\n",
    "\n",
    "t.index_word"
   ]
  },
  {
   "cell_type": "code",
   "execution_count": null,
   "metadata": {},
   "outputs": [],
   "source": []
  }
 ],
 "metadata": {
  "kernelspec": {
   "display_name": "Python 3",
   "language": "python",
   "name": "python3"
  },
  "language_info": {
   "codemirror_mode": {
    "name": "ipython",
    "version": 3
   },
   "file_extension": ".py",
   "mimetype": "text/x-python",
   "name": "python",
   "nbconvert_exporter": "python",
   "pygments_lexer": "ipython3",
   "version": "3.7.4"
  }
 },
 "nbformat": 4,
 "nbformat_minor": 2
}
