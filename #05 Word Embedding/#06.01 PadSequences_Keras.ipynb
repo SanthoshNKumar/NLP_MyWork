{
 "cells": [
  {
   "cell_type": "code",
   "execution_count": 17,
   "metadata": {},
   "outputs": [
    {
     "name": "stdout",
     "output_type": "stream",
     "text": [
      "maxl:7\n"
     ]
    },
    {
     "data": {
      "text/plain": [
       "array([[ 3, 18,  9,  3, 11,  5, 20],\n",
       "       [ 0,  0,  0,  3,  8,  1, 12],\n",
       "       [ 0,  0,  0, 18,  1,  8,  1],\n",
       "       [ 0,  0,  0,  8,  1,  9, 14],\n",
       "       [ 0,  0,  0, 25,  1,  8,  1],\n",
       "       [ 0,  0,  0,  0,  0,  0,  9]])"
      ]
     },
     "execution_count": 17,
     "metadata": {},
     "output_type": "execute_result"
    }
   ],
   "source": [
    "# Example 1 : using Keras\n",
    "\n",
    "import numpy as np\n",
    "from tensorflow.keras.preprocessing import sequence\n",
    "\n",
    "data_vec = [['3', '18', '9', '3', '11', '5', '20'],\n",
    "            ['3', '8', '1', '12'],\n",
    "            ['18', '1', '8', '1'],\n",
    "            ['8', '1', '9', '14'],\n",
    "            ['25', '1', '8', '1'],\n",
    "            ['9']]\n",
    "\n",
    "maxl=np.max([len(x) for x in data_vec])\n",
    "\n",
    "print('maxl:{0}'.format(maxl))\n",
    "\n",
    "x_data_vec = sequence.pad_sequences(data_vec, maxlen=maxl)\n",
    "\n",
    "x_data_vec"
   ]
  },
  {
   "cell_type": "code",
   "execution_count": 18,
   "metadata": {},
   "outputs": [
    {
     "data": {
      "text/plain": [
       "array([[ 3, 18,  9,  3, 11,  5, 20],\n",
       "       [ 3,  8,  1, 12,  0,  0,  0],\n",
       "       [18,  1,  8,  1,  0,  0,  0],\n",
       "       [ 8,  1,  9, 14,  0,  0,  0],\n",
       "       [25,  1,  8,  1,  0,  0,  0],\n",
       "       [ 9,  0,  0,  0,  0,  0,  0]])"
      ]
     },
     "execution_count": 18,
     "metadata": {},
     "output_type": "execute_result"
    }
   ],
   "source": [
    "# padding = 'post'\n",
    "\n",
    "x_data_vec = sequence.pad_sequences(data_vec, maxlen=maxl,padding='post')\n",
    "\n",
    "x_data_vec"
   ]
  },
  {
   "cell_type": "code",
   "execution_count": 19,
   "metadata": {},
   "outputs": [
    {
     "data": {
      "text/plain": [
       "array([[ 3, 18,  9,  3, 11,  5, 20,  0,  0,  0],\n",
       "       [ 3,  8,  1, 12,  0,  0,  0,  0,  0,  0],\n",
       "       [18,  1,  8,  1,  0,  0,  0,  0,  0,  0],\n",
       "       [ 8,  1,  9, 14,  0,  0,  0,  0,  0,  0],\n",
       "       [25,  1,  8,  1,  0,  0,  0,  0,  0,  0],\n",
       "       [ 9,  0,  0,  0,  0,  0,  0,  0,  0,  0]])"
      ]
     },
     "execution_count": 19,
     "metadata": {},
     "output_type": "execute_result"
    }
   ],
   "source": [
    "# Max Length\n",
    "\n",
    "x_data_vec = sequence.pad_sequences(data_vec, maxlen=10,padding='post')\n",
    "\n",
    "x_data_vec"
   ]
  }
 ],
 "metadata": {
  "kernelspec": {
   "display_name": "Python 3",
   "language": "python",
   "name": "python3"
  },
  "language_info": {
   "codemirror_mode": {
    "name": "ipython",
    "version": 3
   },
   "file_extension": ".py",
   "mimetype": "text/x-python",
   "name": "python",
   "nbconvert_exporter": "python",
   "pygments_lexer": "ipython3",
   "version": "3.7.4"
  }
 },
 "nbformat": 4,
 "nbformat_minor": 2
}
