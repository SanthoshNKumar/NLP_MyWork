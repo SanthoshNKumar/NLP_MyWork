{
 "cells": [
  {
   "cell_type": "code",
   "execution_count": 1,
   "metadata": {},
   "outputs": [],
   "source": [
    "# Gensim = “Generate Similar” \n",
    "\n",
    "# Core Concepts of Gensim\n",
    "\n",
    "# Document : if referes to some text\n",
    "# Corpus : Collection of documents\n",
    "# Vector : Mathematical representation of a document is called vector\n",
    "# Model : An algorithm used for transforming vectors from one representation to another"
   ]
  },
  {
   "cell_type": "code",
   "execution_count": 2,
   "metadata": {},
   "outputs": [],
   "source": [
    "# what is Document ? \n",
    "#  -  in Gensim, a document can be anything such as\n",
    "#     - Short tweet of 140 characters\n",
    "#     - Single paragraph, i.e. article or research paper abstract\n",
    "#     - News article\n",
    "#     - Book\n",
    "#     - Novel\n",
    "#     - Theses"
   ]
  },
  {
   "cell_type": "code",
   "execution_count": 3,
   "metadata": {},
   "outputs": [],
   "source": [
    "# Example : Document \n",
    "# Document = “Tutorialspoint.com is the biggest online tutorials library and it’s all free also”"
   ]
  },
  {
   "cell_type": "code",
   "execution_count": 4,
   "metadata": {},
   "outputs": [],
   "source": [
    "# Example \n",
    "\n",
    "t_corpus = [\n",
    "               \"A survey of user opinion of computer system response time\",\n",
    "               \"Relation of user perceived response time to error measurement\",\n",
    "               \"The generation of random binary unordered trees\",\n",
    "               \"The intersection graph of paths in trees\",\n",
    "               \"Graph minors IV Widths of trees and well quasi ordering\",\n",
    "          ]\n",
    "\n",
    "# No of documents : 5"
   ]
  },
  {
   "cell_type": "code",
   "execution_count": 5,
   "metadata": {},
   "outputs": [],
   "source": [
    "# What is Vector :Represent the documents in a such a way that we can manipulate the same mathematically"
   ]
  },
  {
   "cell_type": "code",
   "execution_count": 6,
   "metadata": {},
   "outputs": [],
   "source": [
    "# Bag of Word : Document is basically represented by a vector containing the frequency count of every word in the dictionary"
   ]
  },
  {
   "cell_type": "code",
   "execution_count": 7,
   "metadata": {},
   "outputs": [],
   "source": [
    "# What next?\n",
    "# Once we vectorised the Corpus , we can transofrm it using models,Model may be referred to an algorithms used for transforming\n",
    "# one document representation to other\n"
   ]
  },
  {
   "cell_type": "code",
   "execution_count": 8,
   "metadata": {},
   "outputs": [],
   "source": [
    "# tf-idf model :  This model transforms vectors from the BoW (Bag of Words) representation to another vector space \n",
    "# where the frequency counts are weighted according to the relative rarity of every word in corpus\n",
    "\n",
    "# Initilize the tf-idf model\n",
    "# We will train it on our corpus and then transform "
   ]
  },
  {
   "cell_type": "code",
   "execution_count": 9,
   "metadata": {},
   "outputs": [],
   "source": [
    "# What is Dictionary?\n",
    "\n",
    "# In order to work on text documents, Gensim requires the words (aka tokens) be converted to unique ids.\n",
    "# In order to achieve that, Gensim lets you create a Dictionary object that maps each word to a unique id.\n",
    "\n",
    "# The dictionary object is typically used to create a ‘bag of words’ Corpus.\n",
    "\n",
    "# Token : A token means a word\n",
    "# Document : Sentence or paragraph\n",
    "# Corpus : Collection of Documents\n",
    "\n",
    "# A corpus always contains a token or words id along with its frequency count in the documnet"
   ]
  },
  {
   "cell_type": "code",
   "execution_count": 10,
   "metadata": {},
   "outputs": [],
   "source": [
    "# Create Bag of Words Corpus\n",
    "\n",
    "# Once we have the dictionary we can create a Bag of Word corpus using the doc2bow( ) function.\n",
    "# This function counts the number of occurrences of each distinct word, convert the word to its integer word id \n",
    "# and then the result is returned as a sparse vector\n",
    "\n",
    "# convertig to a bag of word corpus\n"
   ]
  }
 ],
 "metadata": {
  "kernelspec": {
   "display_name": "Python 3",
   "language": "python",
   "name": "python3"
  },
  "language_info": {
   "codemirror_mode": {
    "name": "ipython",
    "version": 3
   },
   "file_extension": ".py",
   "mimetype": "text/x-python",
   "name": "python",
   "nbconvert_exporter": "python",
   "pygments_lexer": "ipython3",
   "version": "3.7.4"
  }
 },
 "nbformat": 4,
 "nbformat_minor": 2
}
