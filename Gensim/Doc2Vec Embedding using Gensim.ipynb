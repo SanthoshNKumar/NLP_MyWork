{
 "cells": [
  {
   "cell_type": "code",
   "execution_count": null,
   "metadata": {},
   "outputs": [],
   "source": [
    "# Doc2Vec Using gensim\n",
    "\n",
    "# Step 1 : Prepare the document such away of Tagged Document\n",
    "# ex: TaggedDocument(words=['godlessness', 'many', 'door', 'school', 'ritalin', 'guess', 'whats', 'list'], tags='POLITICS')\n",
    "\n",
    "# Step2 : Train and build the model Doc2Vec using gensim\n",
    "# model_dbow = Doc2Vec(dm=0, vector_size=300, negative=5, hs=0, min_count=2, sample = 0, workers=cores)\n",
    "# model_dbow.build_vocab([x for x in tqdm(tagged_doc_label)])\n",
    "\n",
    "# Step3 : use infer_vector() to generate a vector given a document which is in trained data and \n",
    "#   unzip the data and seperate vector data and target labels\n",
    "\n",
    "# Step4 : Use Logistic Regression to train the model"
   ]
  },
  {
   "cell_type": "code",
   "execution_count": 329,
   "metadata": {},
   "outputs": [
    {
     "data": {
      "text/html": [
       "<div>\n",
       "<style scoped>\n",
       "    .dataframe tbody tr th:only-of-type {\n",
       "        vertical-align: middle;\n",
       "    }\n",
       "\n",
       "    .dataframe tbody tr th {\n",
       "        vertical-align: top;\n",
       "    }\n",
       "\n",
       "    .dataframe thead th {\n",
       "        text-align: right;\n",
       "    }\n",
       "</style>\n",
       "<table border=\"1\" class=\"dataframe\">\n",
       "  <thead>\n",
       "    <tr style=\"text-align: right;\">\n",
       "      <th></th>\n",
       "      <th>category</th>\n",
       "      <th>headline</th>\n",
       "      <th>authors</th>\n",
       "      <th>link</th>\n",
       "      <th>short_description</th>\n",
       "      <th>date</th>\n",
       "    </tr>\n",
       "  </thead>\n",
       "  <tbody>\n",
       "    <tr>\n",
       "      <td>0</td>\n",
       "      <td>CRIME</td>\n",
       "      <td>There Were 2 Mass Shootings In Texas Last Week...</td>\n",
       "      <td>Melissa Jeltsen</td>\n",
       "      <td>https://www.huffingtonpost.com/entry/texas-ama...</td>\n",
       "      <td>She left her husband. He killed their children...</td>\n",
       "      <td>2018-05-26</td>\n",
       "    </tr>\n",
       "    <tr>\n",
       "      <td>1</td>\n",
       "      <td>ENTERTAINMENT</td>\n",
       "      <td>Will Smith Joins Diplo And Nicky Jam For The 2...</td>\n",
       "      <td>Andy McDonald</td>\n",
       "      <td>https://www.huffingtonpost.com/entry/will-smit...</td>\n",
       "      <td>Of course it has a song.</td>\n",
       "      <td>2018-05-26</td>\n",
       "    </tr>\n",
       "    <tr>\n",
       "      <td>2</td>\n",
       "      <td>ENTERTAINMENT</td>\n",
       "      <td>Hugh Grant Marries For The First Time At Age 57</td>\n",
       "      <td>Ron Dicker</td>\n",
       "      <td>https://www.huffingtonpost.com/entry/hugh-gran...</td>\n",
       "      <td>The actor and his longtime girlfriend Anna Ebe...</td>\n",
       "      <td>2018-05-26</td>\n",
       "    </tr>\n",
       "    <tr>\n",
       "      <td>3</td>\n",
       "      <td>ENTERTAINMENT</td>\n",
       "      <td>Jim Carrey Blasts 'Castrato' Adam Schiff And D...</td>\n",
       "      <td>Ron Dicker</td>\n",
       "      <td>https://www.huffingtonpost.com/entry/jim-carre...</td>\n",
       "      <td>The actor gives Dems an ass-kicking for not fi...</td>\n",
       "      <td>2018-05-26</td>\n",
       "    </tr>\n",
       "    <tr>\n",
       "      <td>4</td>\n",
       "      <td>ENTERTAINMENT</td>\n",
       "      <td>Julianna Margulies Uses Donald Trump Poop Bags...</td>\n",
       "      <td>Ron Dicker</td>\n",
       "      <td>https://www.huffingtonpost.com/entry/julianna-...</td>\n",
       "      <td>The \"Dietland\" actress said using the bags is ...</td>\n",
       "      <td>2018-05-26</td>\n",
       "    </tr>\n",
       "  </tbody>\n",
       "</table>\n",
       "</div>"
      ],
      "text/plain": [
       "        category                                           headline  \\\n",
       "0          CRIME  There Were 2 Mass Shootings In Texas Last Week...   \n",
       "1  ENTERTAINMENT  Will Smith Joins Diplo And Nicky Jam For The 2...   \n",
       "2  ENTERTAINMENT    Hugh Grant Marries For The First Time At Age 57   \n",
       "3  ENTERTAINMENT  Jim Carrey Blasts 'Castrato' Adam Schiff And D...   \n",
       "4  ENTERTAINMENT  Julianna Margulies Uses Donald Trump Poop Bags...   \n",
       "\n",
       "           authors                                               link  \\\n",
       "0  Melissa Jeltsen  https://www.huffingtonpost.com/entry/texas-ama...   \n",
       "1    Andy McDonald  https://www.huffingtonpost.com/entry/will-smit...   \n",
       "2       Ron Dicker  https://www.huffingtonpost.com/entry/hugh-gran...   \n",
       "3       Ron Dicker  https://www.huffingtonpost.com/entry/jim-carre...   \n",
       "4       Ron Dicker  https://www.huffingtonpost.com/entry/julianna-...   \n",
       "\n",
       "                                   short_description       date  \n",
       "0  She left her husband. He killed their children... 2018-05-26  \n",
       "1                           Of course it has a song. 2018-05-26  \n",
       "2  The actor and his longtime girlfriend Anna Ebe... 2018-05-26  \n",
       "3  The actor gives Dems an ass-kicking for not fi... 2018-05-26  \n",
       "4  The \"Dietland\" actress said using the bags is ... 2018-05-26  "
      ]
     },
     "execution_count": 329,
     "metadata": {},
     "output_type": "execute_result"
    }
   ],
   "source": [
    "import pandas as pd\n",
    "\n",
    "\n",
    "df = pd.read_json(\"C:\\MyWork\\MyLearning\\Career Growth\\ML\\Files\\DataSet\\data_news.json\")\n",
    "\n",
    "df.head()"
   ]
  },
  {
   "cell_type": "code",
   "execution_count": 139,
   "metadata": {},
   "outputs": [
    {
     "data": {
      "image/png": "[encoded data removed]",
      "text/plain": [
       "<Figure size 720x720 with 1 Axes>"
      ]
     },
     "metadata": {
      "needs_background": "light"
     },
     "output_type": "display_data"
    }
   ],
   "source": [
    "import matplotlib.pyplot as plt\n",
    "\n",
    "fig, ax = plt. subplots(figsize=(10,10))\n",
    "fig.suptitle(\"y\", fontsize=12)\n",
    "\n",
    "df[\"category\"].reset_index().groupby(\"category\").count().sort_values(by= \n",
    "       \"index\").plot(kind=\"barh\", legend=False, \n",
    "        ax=ax).grid(axis='x')\n",
    "\n",
    "plt.show()"
   ]
  },
  {
   "cell_type": "code",
   "execution_count": 140,
   "metadata": {},
   "outputs": [],
   "source": [
    "# consider only the ''ENTERTAINMENT','POLITICS','TECH'' category\n",
    "\n",
    "df = df[df['category'].isin(['ENTERTAINMENT','POLITICS','TECH'])][['category','short_description']]"
   ]
  },
  {
   "cell_type": "code",
   "execution_count": 141,
   "metadata": {},
   "outputs": [
    {
     "data": {
      "text/html": [
       "<div>\n",
       "<style scoped>\n",
       "    .dataframe tbody tr th:only-of-type {\n",
       "        vertical-align: middle;\n",
       "    }\n",
       "\n",
       "    .dataframe tbody tr th {\n",
       "        vertical-align: top;\n",
       "    }\n",
       "\n",
       "    .dataframe thead th {\n",
       "        text-align: right;\n",
       "    }\n",
       "</style>\n",
       "<table border=\"1\" class=\"dataframe\">\n",
       "  <thead>\n",
       "    <tr style=\"text-align: right;\">\n",
       "      <th></th>\n",
       "      <th>category</th>\n",
       "      <th>short_description</th>\n",
       "    </tr>\n",
       "  </thead>\n",
       "  <tbody>\n",
       "    <tr>\n",
       "      <td>1</td>\n",
       "      <td>ENTERTAINMENT</td>\n",
       "      <td>Of course it has a song.</td>\n",
       "    </tr>\n",
       "    <tr>\n",
       "      <td>2</td>\n",
       "      <td>ENTERTAINMENT</td>\n",
       "      <td>The actor and his longtime girlfriend Anna Ebe...</td>\n",
       "    </tr>\n",
       "    <tr>\n",
       "      <td>3</td>\n",
       "      <td>ENTERTAINMENT</td>\n",
       "      <td>The actor gives Dems an ass-kicking for not fi...</td>\n",
       "    </tr>\n",
       "  </tbody>\n",
       "</table>\n",
       "</div>"
      ],
      "text/plain": [
       "        category                                  short_description\n",
       "1  ENTERTAINMENT                           Of course it has a song.\n",
       "2  ENTERTAINMENT  The actor and his longtime girlfriend Anna Ebe...\n",
       "3  ENTERTAINMENT  The actor gives Dems an ass-kicking for not fi..."
      ]
     },
     "execution_count": 141,
     "metadata": {},
     "output_type": "execute_result"
    }
   ],
   "source": [
    "df.head(3)"
   ]
  },
  {
   "cell_type": "code",
   "execution_count": 142,
   "metadata": {},
   "outputs": [
    {
     "data": {
      "text/plain": [
       "array(['ENTERTAINMENT', 'POLITICS', 'TECH'], dtype=object)"
      ]
     },
     "execution_count": 142,
     "metadata": {},
     "output_type": "execute_result"
    }
   ],
   "source": [
    "df.category.unique()"
   ]
  },
  {
   "cell_type": "code",
   "execution_count": 143,
   "metadata": {},
   "outputs": [
    {
     "data": {
      "image/png": "[encoded data removed]",
      "text/plain": [
       "<Figure size 432x288 with 1 Axes>"
      ]
     },
     "metadata": {
      "needs_background": "light"
     },
     "output_type": "display_data"
    }
   ],
   "source": [
    "import matplotlib.pyplot as plt\n",
    "\n",
    "fig, ax = plt. subplots()\n",
    "fig.suptitle(\"y\", fontsize=12)\n",
    "\n",
    "df[\"category\"].reset_index().groupby(\"category\").count().sort_values(by= \n",
    "       \"index\").plot(kind=\"barh\", legend=False, \n",
    "        ax=ax).grid(axis='x')\n",
    "\n",
    "plt.show()"
   ]
  },
  {
   "cell_type": "code",
   "execution_count": 144,
   "metadata": {},
   "outputs": [],
   "source": [
    "import nltk\n",
    "import re\n",
    "\n",
    "from nltk.corpus import stopwords\n",
    "\n",
    "'''Pre process Text.\n",
    "    : stop word removal\n",
    "    : tokenize\n",
    "    : Lemmatization\n",
    "    '''\n",
    "def preprocessText(text):\n",
    "    \n",
    "    # convert lower and remove punctuaions and strip\n",
    "    text = re.sub(r'[^\\w\\s]', '', str(text).lower().strip())\n",
    "    \n",
    "    # tokenize the senetnce\n",
    "    lst_text = text.split()\n",
    "    \n",
    "    # remove Stopwords\n",
    "    lst_text = [word for word in lst_text if word not in stopwords.words(\"english\")]\n",
    "    \n",
    "    # Lemmatisation (convert the word into root word)\n",
    "    lem = nltk.stem.wordnet.WordNetLemmatizer()\n",
    "    lst_text = [lem.lemmatize(word) for word in lst_text]\n",
    "        \n",
    "    # join the tokens\n",
    "    text = ' '.join(lst_text)\n",
    "    \n",
    "    return text"
   ]
  },
  {
   "cell_type": "code",
   "execution_count": 145,
   "metadata": {},
   "outputs": [],
   "source": [
    "df['text_clean'] = df['short_description'].apply(preprocessText)"
   ]
  },
  {
   "cell_type": "code",
   "execution_count": 146,
   "metadata": {},
   "outputs": [
    {
     "data": {
      "text/html": [
       "<div>\n",
       "<style scoped>\n",
       "    .dataframe tbody tr th:only-of-type {\n",
       "        vertical-align: middle;\n",
       "    }\n",
       "\n",
       "    .dataframe tbody tr th {\n",
       "        vertical-align: top;\n",
       "    }\n",
       "\n",
       "    .dataframe thead th {\n",
       "        text-align: right;\n",
       "    }\n",
       "</style>\n",
       "<table border=\"1\" class=\"dataframe\">\n",
       "  <thead>\n",
       "    <tr style=\"text-align: right;\">\n",
       "      <th></th>\n",
       "      <th>category</th>\n",
       "      <th>short_description</th>\n",
       "      <th>text_clean</th>\n",
       "    </tr>\n",
       "  </thead>\n",
       "  <tbody>\n",
       "    <tr>\n",
       "      <td>1</td>\n",
       "      <td>ENTERTAINMENT</td>\n",
       "      <td>Of course it has a song.</td>\n",
       "      <td>course song</td>\n",
       "    </tr>\n",
       "    <tr>\n",
       "      <td>2</td>\n",
       "      <td>ENTERTAINMENT</td>\n",
       "      <td>The actor and his longtime girlfriend Anna Ebe...</td>\n",
       "      <td>actor longtime girlfriend anna eberstein tied ...</td>\n",
       "    </tr>\n",
       "    <tr>\n",
       "      <td>3</td>\n",
       "      <td>ENTERTAINMENT</td>\n",
       "      <td>The actor gives Dems an ass-kicking for not fi...</td>\n",
       "      <td>actor give dems asskicking fighting hard enoug...</td>\n",
       "    </tr>\n",
       "    <tr>\n",
       "      <td>4</td>\n",
       "      <td>ENTERTAINMENT</td>\n",
       "      <td>The \"Dietland\" actress said using the bags is ...</td>\n",
       "      <td>dietland actress said using bag really cathart...</td>\n",
       "    </tr>\n",
       "    <tr>\n",
       "      <td>5</td>\n",
       "      <td>ENTERTAINMENT</td>\n",
       "      <td>\"It is not right to equate horrific incidents ...</td>\n",
       "      <td>right equate horrific incident sexual assault ...</td>\n",
       "    </tr>\n",
       "  </tbody>\n",
       "</table>\n",
       "</div>"
      ],
      "text/plain": [
       "        category                                  short_description  \\\n",
       "1  ENTERTAINMENT                           Of course it has a song.   \n",
       "2  ENTERTAINMENT  The actor and his longtime girlfriend Anna Ebe...   \n",
       "3  ENTERTAINMENT  The actor gives Dems an ass-kicking for not fi...   \n",
       "4  ENTERTAINMENT  The \"Dietland\" actress said using the bags is ...   \n",
       "5  ENTERTAINMENT  \"It is not right to equate horrific incidents ...   \n",
       "\n",
       "                                          text_clean  \n",
       "1                                        course song  \n",
       "2  actor longtime girlfriend anna eberstein tied ...  \n",
       "3  actor give dems asskicking fighting hard enoug...  \n",
       "4  dietland actress said using bag really cathart...  \n",
       "5  right equate horrific incident sexual assault ...  "
      ]
     },
     "execution_count": 146,
     "metadata": {},
     "output_type": "execute_result"
    }
   ],
   "source": [
    "df.head()"
   ]
  },
  {
   "cell_type": "code",
   "execution_count": 166,
   "metadata": {},
   "outputs": [
    {
     "data": {
      "text/plain": [
       "(19129, 3)"
      ]
     },
     "execution_count": 166,
     "metadata": {},
     "output_type": "execute_result"
    }
   ],
   "source": [
    "df.shape"
   ]
  },
  {
   "cell_type": "code",
   "execution_count": 209,
   "metadata": {},
   "outputs": [],
   "source": [
    "# Create Tagged Document\n",
    "from gensim.models.doc2vec import TaggedDocument\n",
    "from gensim.models import Doc2Vec\n"
   ]
  },
  {
   "cell_type": "code",
   "execution_count": 168,
   "metadata": {},
   "outputs": [
    {
     "data": {
      "text/html": [
       "<div>\n",
       "<style scoped>\n",
       "    .dataframe tbody tr th:only-of-type {\n",
       "        vertical-align: middle;\n",
       "    }\n",
       "\n",
       "    .dataframe tbody tr th {\n",
       "        vertical-align: top;\n",
       "    }\n",
       "\n",
       "    .dataframe thead th {\n",
       "        text-align: right;\n",
       "    }\n",
       "</style>\n",
       "<table border=\"1\" class=\"dataframe\">\n",
       "  <thead>\n",
       "    <tr style=\"text-align: right;\">\n",
       "      <th></th>\n",
       "      <th>category</th>\n",
       "      <th>short_description</th>\n",
       "      <th>text_clean</th>\n",
       "    </tr>\n",
       "  </thead>\n",
       "  <tbody>\n",
       "    <tr>\n",
       "      <td>1</td>\n",
       "      <td>ENTERTAINMENT</td>\n",
       "      <td>Of course it has a song.</td>\n",
       "      <td>course song</td>\n",
       "    </tr>\n",
       "    <tr>\n",
       "      <td>2</td>\n",
       "      <td>ENTERTAINMENT</td>\n",
       "      <td>The actor and his longtime girlfriend Anna Ebe...</td>\n",
       "      <td>actor longtime girlfriend anna eberstein tied ...</td>\n",
       "    </tr>\n",
       "    <tr>\n",
       "      <td>3</td>\n",
       "      <td>ENTERTAINMENT</td>\n",
       "      <td>The actor gives Dems an ass-kicking for not fi...</td>\n",
       "      <td>actor give dems asskicking fighting hard enoug...</td>\n",
       "    </tr>\n",
       "    <tr>\n",
       "      <td>4</td>\n",
       "      <td>ENTERTAINMENT</td>\n",
       "      <td>The \"Dietland\" actress said using the bags is ...</td>\n",
       "      <td>dietland actress said using bag really cathart...</td>\n",
       "    </tr>\n",
       "    <tr>\n",
       "      <td>5</td>\n",
       "      <td>ENTERTAINMENT</td>\n",
       "      <td>\"It is not right to equate horrific incidents ...</td>\n",
       "      <td>right equate horrific incident sexual assault ...</td>\n",
       "    </tr>\n",
       "    <tr>\n",
       "      <td>...</td>\n",
       "      <td>...</td>\n",
       "      <td>...</td>\n",
       "      <td>...</td>\n",
       "    </tr>\n",
       "    <tr>\n",
       "      <td>39322</td>\n",
       "      <td>ENTERTAINMENT</td>\n",
       "      <td>YES!</td>\n",
       "      <td>yes</td>\n",
       "    </tr>\n",
       "    <tr>\n",
       "      <td>39362</td>\n",
       "      <td>ENTERTAINMENT</td>\n",
       "      <td>Our hearts are sufficiently warmed.</td>\n",
       "      <td>heart sufficiently warmed</td>\n",
       "    </tr>\n",
       "    <tr>\n",
       "      <td>39364</td>\n",
       "      <td>ENTERTAINMENT</td>\n",
       "      <td>These two 😍</td>\n",
       "      <td>two</td>\n",
       "    </tr>\n",
       "    <tr>\n",
       "      <td>39365</td>\n",
       "      <td>ENTERTAINMENT</td>\n",
       "      <td>The actor died last week after suffering a hea...</td>\n",
       "      <td>actor died last week suffering heart attack</td>\n",
       "    </tr>\n",
       "    <tr>\n",
       "      <td>39408</td>\n",
       "      <td>ENTERTAINMENT</td>\n",
       "      <td>Aside from their similarities in color.</td>\n",
       "      <td>aside similarity color</td>\n",
       "    </tr>\n",
       "  </tbody>\n",
       "</table>\n",
       "<p>5034 rows × 3 columns</p>\n",
       "</div>"
      ],
      "text/plain": [
       "            category                                  short_description  \\\n",
       "1      ENTERTAINMENT                           Of course it has a song.   \n",
       "2      ENTERTAINMENT  The actor and his longtime girlfriend Anna Ebe...   \n",
       "3      ENTERTAINMENT  The actor gives Dems an ass-kicking for not fi...   \n",
       "4      ENTERTAINMENT  The \"Dietland\" actress said using the bags is ...   \n",
       "5      ENTERTAINMENT  \"It is not right to equate horrific incidents ...   \n",
       "...              ...                                                ...   \n",
       "39322  ENTERTAINMENT                                               YES!   \n",
       "39362  ENTERTAINMENT                Our hearts are sufficiently warmed.   \n",
       "39364  ENTERTAINMENT                                        These two 😍   \n",
       "39365  ENTERTAINMENT  The actor died last week after suffering a hea...   \n",
       "39408  ENTERTAINMENT            Aside from their similarities in color.   \n",
       "\n",
       "                                              text_clean  \n",
       "1                                            course song  \n",
       "2      actor longtime girlfriend anna eberstein tied ...  \n",
       "3      actor give dems asskicking fighting hard enoug...  \n",
       "4      dietland actress said using bag really cathart...  \n",
       "5      right equate horrific incident sexual assault ...  \n",
       "...                                                  ...  \n",
       "39322                                                yes  \n",
       "39362                          heart sufficiently warmed  \n",
       "39364                                                two  \n",
       "39365        actor died last week suffering heart attack  \n",
       "39408                             aside similarity color  \n",
       "\n",
       "[5034 rows x 3 columns]"
      ]
     },
     "execution_count": 168,
     "metadata": {},
     "output_type": "execute_result"
    }
   ],
   "source": [
    "category = 'ENTERTAINMENT'\n",
    "\n",
    "\n",
    "df[df['category'] == category]"
   ]
  },
  {
   "cell_type": "code",
   "execution_count": 201,
   "metadata": {},
   "outputs": [
    {
     "data": {
      "text/html": [
       "<div>\n",
       "<style scoped>\n",
       "    .dataframe tbody tr th:only-of-type {\n",
       "        vertical-align: middle;\n",
       "    }\n",
       "\n",
       "    .dataframe tbody tr th {\n",
       "        vertical-align: top;\n",
       "    }\n",
       "\n",
       "    .dataframe thead th {\n",
       "        text-align: right;\n",
       "    }\n",
       "</style>\n",
       "<table border=\"1\" class=\"dataframe\">\n",
       "  <thead>\n",
       "    <tr style=\"text-align: right;\">\n",
       "      <th></th>\n",
       "      <th>category</th>\n",
       "      <th>short_description</th>\n",
       "      <th>text_clean</th>\n",
       "      <th>text_clean_asda</th>\n",
       "    </tr>\n",
       "  </thead>\n",
       "  <tbody>\n",
       "    <tr>\n",
       "      <td>1</td>\n",
       "      <td>ENTERTAINMENT</td>\n",
       "      <td>Of course it has a song.</td>\n",
       "      <td>course song</td>\n",
       "      <td>[course, song]</td>\n",
       "    </tr>\n",
       "    <tr>\n",
       "      <td>2</td>\n",
       "      <td>ENTERTAINMENT</td>\n",
       "      <td>The actor and his longtime girlfriend Anna Ebe...</td>\n",
       "      <td>actor longtime girlfriend anna eberstein tied ...</td>\n",
       "      <td>[actor, longtime, girlfriend, anna, eberstein,...</td>\n",
       "    </tr>\n",
       "    <tr>\n",
       "      <td>3</td>\n",
       "      <td>ENTERTAINMENT</td>\n",
       "      <td>The actor gives Dems an ass-kicking for not fi...</td>\n",
       "      <td>actor give dems asskicking fighting hard enoug...</td>\n",
       "      <td>[actor, give, dems, asskicking, fighting, hard...</td>\n",
       "    </tr>\n",
       "    <tr>\n",
       "      <td>4</td>\n",
       "      <td>ENTERTAINMENT</td>\n",
       "      <td>The \"Dietland\" actress said using the bags is ...</td>\n",
       "      <td>dietland actress said using bag really cathart...</td>\n",
       "      <td>[dietland, actress, said, using, bag, really, ...</td>\n",
       "    </tr>\n",
       "    <tr>\n",
       "      <td>5</td>\n",
       "      <td>ENTERTAINMENT</td>\n",
       "      <td>\"It is not right to equate horrific incidents ...</td>\n",
       "      <td>right equate horrific incident sexual assault ...</td>\n",
       "      <td>[right, equate, horrific, incident, sexual, as...</td>\n",
       "    </tr>\n",
       "    <tr>\n",
       "      <td>...</td>\n",
       "      <td>...</td>\n",
       "      <td>...</td>\n",
       "      <td>...</td>\n",
       "      <td>...</td>\n",
       "    </tr>\n",
       "    <tr>\n",
       "      <td>39322</td>\n",
       "      <td>ENTERTAINMENT</td>\n",
       "      <td>YES!</td>\n",
       "      <td>yes</td>\n",
       "      <td>[yes]</td>\n",
       "    </tr>\n",
       "    <tr>\n",
       "      <td>39362</td>\n",
       "      <td>ENTERTAINMENT</td>\n",
       "      <td>Our hearts are sufficiently warmed.</td>\n",
       "      <td>heart sufficiently warmed</td>\n",
       "      <td>[heart, sufficiently, warmed]</td>\n",
       "    </tr>\n",
       "    <tr>\n",
       "      <td>39364</td>\n",
       "      <td>ENTERTAINMENT</td>\n",
       "      <td>These two 😍</td>\n",
       "      <td>two</td>\n",
       "      <td>[two]</td>\n",
       "    </tr>\n",
       "    <tr>\n",
       "      <td>39365</td>\n",
       "      <td>ENTERTAINMENT</td>\n",
       "      <td>The actor died last week after suffering a hea...</td>\n",
       "      <td>actor died last week suffering heart attack</td>\n",
       "      <td>[actor, died, last, week, suffering, heart, at...</td>\n",
       "    </tr>\n",
       "    <tr>\n",
       "      <td>39408</td>\n",
       "      <td>ENTERTAINMENT</td>\n",
       "      <td>Aside from their similarities in color.</td>\n",
       "      <td>aside similarity color</td>\n",
       "      <td>[aside, similarity, color]</td>\n",
       "    </tr>\n",
       "  </tbody>\n",
       "</table>\n",
       "<p>5034 rows × 4 columns</p>\n",
       "</div>"
      ],
      "text/plain": [
       "            category                                  short_description  \\\n",
       "1      ENTERTAINMENT                           Of course it has a song.   \n",
       "2      ENTERTAINMENT  The actor and his longtime girlfriend Anna Ebe...   \n",
       "3      ENTERTAINMENT  The actor gives Dems an ass-kicking for not fi...   \n",
       "4      ENTERTAINMENT  The \"Dietland\" actress said using the bags is ...   \n",
       "5      ENTERTAINMENT  \"It is not right to equate horrific incidents ...   \n",
       "...              ...                                                ...   \n",
       "39322  ENTERTAINMENT                                               YES!   \n",
       "39362  ENTERTAINMENT                Our hearts are sufficiently warmed.   \n",
       "39364  ENTERTAINMENT                                        These two 😍   \n",
       "39365  ENTERTAINMENT  The actor died last week after suffering a hea...   \n",
       "39408  ENTERTAINMENT            Aside from their similarities in color.   \n",
       "\n",
       "                                              text_clean  \\\n",
       "1                                            course song   \n",
       "2      actor longtime girlfriend anna eberstein tied ...   \n",
       "3      actor give dems asskicking fighting hard enoug...   \n",
       "4      dietland actress said using bag really cathart...   \n",
       "5      right equate horrific incident sexual assault ...   \n",
       "...                                                  ...   \n",
       "39322                                                yes   \n",
       "39362                          heart sufficiently warmed   \n",
       "39364                                                two   \n",
       "39365        actor died last week suffering heart attack   \n",
       "39408                             aside similarity color   \n",
       "\n",
       "                                         text_clean_asda  \n",
       "1                                         [course, song]  \n",
       "2      [actor, longtime, girlfriend, anna, eberstein,...  \n",
       "3      [actor, give, dems, asskicking, fighting, hard...  \n",
       "4      [dietland, actress, said, using, bag, really, ...  \n",
       "5      [right, equate, horrific, incident, sexual, as...  \n",
       "...                                                  ...  \n",
       "39322                                              [yes]  \n",
       "39362                      [heart, sufficiently, warmed]  \n",
       "39364                                              [two]  \n",
       "39365  [actor, died, last, week, suffering, heart, at...  \n",
       "39408                         [aside, similarity, color]  \n",
       "\n",
       "[5034 rows x 4 columns]"
      ]
     },
     "execution_count": 201,
     "metadata": {},
     "output_type": "execute_result"
    }
   ],
   "source": [
    "df['text_clean_asda'] = df['text_clean'].str.split()"
   ]
  },
  {
   "cell_type": "code",
   "execution_count": 281,
   "metadata": {},
   "outputs": [
    {
     "data": {
      "text/plain": [
       "19129"
      ]
     },
     "execution_count": 281,
     "metadata": {},
     "output_type": "execute_result"
    }
   ],
   "source": [
    "# Generate tagged Documents\n",
    "\n",
    "tagged_doc_label = []\n",
    "\n",
    "tagged_doc_label.clear()\n",
    "\n",
    "for doc in df.values:\n",
    "    label = doc[0]\n",
    "    doc_tokens = doc[3]\n",
    "    tagged_doc_label.append(TaggedDocument(doc_tokens,label))\n",
    "\n",
    "len(tagged_doc_label)"
   ]
  },
  {
   "cell_type": "code",
   "execution_count": 283,
   "metadata": {},
   "outputs": [
    {
     "data": {
      "text/plain": [
       "TaggedDocument(words=['godlessness', 'many', 'door', 'school', 'ritalin', 'guess', 'whats', 'list'], tags='POLITICS')"
      ]
     },
     "execution_count": 283,
     "metadata": {},
     "output_type": "execute_result"
    }
   ],
   "source": [
    "tagged_doc_label[40]"
   ]
  },
  {
   "cell_type": "code",
   "execution_count": 287,
   "metadata": {},
   "outputs": [
    {
     "name": "stderr",
     "output_type": "stream",
     "text": [
      "100%|███████████████████████████████████████████████████████████████████████| 19129/19129 [00:00<00:00, 1301741.56it/s]\n"
     ]
    }
   ],
   "source": [
    "# Set-up Doc2Vec Training\n",
    "from tqdm import tqdm\n",
    "import multiprocessing\n",
    "cores = multiprocessing.cpu_count()\n",
    "\n",
    "model_dbow = Doc2Vec(dm=0, vector_size=300, negative=5, hs=0, min_count=2, sample = 0, workers=cores)\n",
    "\n",
    "model_dbow.build_vocab([x for x in tqdm(tagged_doc_label)])\n"
   ]
  },
  {
   "cell_type": "code",
   "execution_count": 289,
   "metadata": {},
   "outputs": [
    {
     "name": "stderr",
     "output_type": "stream",
     "text": [
      "100%|███████████████████████████████████████████████████████████████████████| 19129/19129 [00:00<00:00, 2132547.68it/s]\n",
      "100%|████████████████████████████████████████████████████████████████████████| 19129/19129 [00:00<00:00, 940728.37it/s]\n",
      "100%|███████████████████████████████████████████████████████████████████████| 19129/19129 [00:00<00:00, 1363136.33it/s]\n",
      "100%|███████████████████████████████████████████████████████████████████████| 19129/19129 [00:00<00:00, 1248585.28it/s]\n",
      "100%|███████████████████████████████████████████████████████████████████████| 19129/19129 [00:00<00:00, 1208016.64it/s]\n",
      "100%|███████████████████████████████████████████████████████████████████████| 19129/19129 [00:00<00:00, 1532740.63it/s]\n",
      "100%|███████████████████████████████████████████████████████████████████████| 19129/19129 [00:00<00:00, 1279875.59it/s]\n",
      "100%|███████████████████████████████████████████████████████████████████████| 19129/19129 [00:00<00:00, 1471892.15it/s]\n",
      "100%|███████████████████████████████████████████████████████████████████████| 19129/19129 [00:00<00:00, 1410836.15it/s]\n",
      "100%|███████████████████████████████████████████████████████████████████████| 19129/19129 [00:00<00:00, 1210732.80it/s]\n",
      "100%|███████████████████████████████████████████████████████████████████████| 19129/19129 [00:00<00:00, 1747192.81it/s]\n",
      "100%|████████████████████████████████████████████████████████████████████████| 19129/19129 [00:00<00:00, 854531.76it/s]\n",
      "100%|███████████████████████████████████████████████████████████████████████| 19129/19129 [00:00<00:00, 1668944.57it/s]\n",
      "100%|███████████████████████████████████████████████████████████████████████| 19129/19129 [00:00<00:00, 1528972.68it/s]\n",
      "100%|███████████████████████████████████████████████████████████████████████| 19129/19129 [00:00<00:00, 1691427.03it/s]\n",
      "100%|████████████████████████████████████████████████████████████████████████| 19129/19129 [00:00<00:00, 911219.09it/s]\n",
      "100%|███████████████████████████████████████████████████████████████████████| 19129/19129 [00:00<00:00, 1344812.21it/s]\n",
      "100%|███████████████████████████████████████████████████████████████████████| 19129/19129 [00:00<00:00, 1942683.81it/s]\n",
      "100%|███████████████████████████████████████████████████████████████████████| 19129/19129 [00:00<00:00, 1168637.99it/s]\n",
      "100%|███████████████████████████████████████████████████████████████████████| 19129/19129 [00:00<00:00, 1045801.45it/s]\n",
      "100%|███████████████████████████████████████████████████████████████████████| 19129/19129 [00:00<00:00, 3047318.21it/s]\n",
      "100%|███████████████████████████████████████████████████████████████████████| 19129/19129 [00:00<00:00, 1196772.74it/s]\n",
      "100%|████████████████████████████████████████████████████████████████████████| 19129/19129 [00:00<00:00, 820846.71it/s]\n",
      "100%|███████████████████████████████████████████████████████████████████████| 19129/19129 [00:00<00:00, 1092554.62it/s]\n",
      "100%|████████████████████████████████████████████████████████████████████████| 19129/19129 [00:00<00:00, 894706.90it/s]\n",
      "100%|████████████████████████████████████████████████████████████████████████| 19129/19129 [00:00<00:00, 734941.62it/s]\n",
      "100%|███████████████████████████████████████████████████████████████████████| 19129/19129 [00:00<00:00, 1019269.80it/s]\n",
      "100%|███████████████████████████████████████████████████████████████████████| 19129/19129 [00:00<00:00, 1417566.41it/s]\n",
      "100%|███████████████████████████████████████████████████████████████████████| 19129/19129 [00:00<00:00, 1145970.62it/s]\n",
      "100%|████████████████████████████████████████████████████████████████████████| 19129/19129 [00:00<00:00, 927504.41it/s]\n"
     ]
    }
   ],
   "source": [
    "from sklearn import utils\n",
    "\n",
    "\n",
    "for epoch in range(30):\n",
    "    model_dbow.train(utils.shuffle([x for x in tqdm(tagged_doc_label)]), total_examples=len(tagged_doc_label), epochs=1)\n",
    "    model_dbow.alpha -= 0.002\n",
    "    model_dbow.min_alpha = model_dbow.alpha"
   ]
  },
  {
   "cell_type": "code",
   "execution_count": 305,
   "metadata": {},
   "outputs": [],
   "source": [
    "sents = tagged_doc_label\n",
    "targets, regressors = zip(*[(doc.tags, model_dbow.infer_vector(doc.words, steps=20)) for doc in sents])"
   ]
  },
  {
   "cell_type": "code",
   "execution_count": 313,
   "metadata": {},
   "outputs": [
    {
     "data": {
      "text/plain": [
       "TaggedDocument(words=['course', 'song'], tags='ENTERTAINMENT')"
      ]
     },
     "execution_count": 313,
     "metadata": {},
     "output_type": "execute_result"
    }
   ],
   "source": [
    "sents[0]"
   ]
  },
  {
   "cell_type": "code",
   "execution_count": 314,
   "metadata": {},
   "outputs": [
    {
     "data": {
      "text/plain": [
       "array([-0.26230726, -0.27870345,  0.16489877,  0.22187087,  0.16509062,\n",
       "       -0.21233135,  0.4943022 ,  0.05017448,  0.13216747, -0.93856543,\n",
       "        0.09673601,  0.03677853, -0.19135912, -0.48932272, -0.17296317,\n",
       "        0.3113948 ,  0.4358622 ,  0.00169334,  0.02245156,  0.14078929,\n",
       "        0.0762305 ,  0.48287103,  0.28597635, -0.05815482, -0.4917301 ,\n",
       "        0.15422353,  0.34009266,  0.32063368, -0.07076068,  0.28220493,\n",
       "       -0.39563823, -0.3108152 , -0.10417586, -0.09840092,  0.22619209,\n",
       "        0.29471588, -0.52797264,  0.47311276, -0.27278194,  0.62693626,\n",
       "       -0.12246664, -0.02855081,  0.1111244 ,  0.34020478,  0.6000667 ,\n",
       "       -0.20550258,  0.18573853,  0.7680983 ,  0.39841497, -0.2310721 ,\n",
       "       -0.38865942,  0.07603721,  0.12050067,  0.00500514, -0.22949424,\n",
       "       -0.3068516 ,  0.14530148,  0.17742787,  0.18645169, -0.817249  ,\n",
       "        0.01857433, -0.6762794 ,  0.31995264, -0.41648677, -0.0600251 ,\n",
       "        0.46551308,  0.0100096 , -0.09801411, -0.04434578,  0.04044988,\n",
       "        0.30314958,  0.03710497, -0.03999766, -0.7660397 , -0.29105264,\n",
       "       -0.1941071 , -0.0880594 , -0.3189064 ,  0.2149804 , -0.15562089,\n",
       "       -0.20019408, -0.33727875,  0.14827015, -0.1755352 , -0.47026902,\n",
       "        0.5367776 ,  0.37147874,  0.10460655, -0.110432  ,  0.15082377,\n",
       "       -0.24300325,  0.11538294,  0.03801531, -0.3992369 ,  0.00102589,\n",
       "        0.51501364, -0.10413823,  0.22006372,  0.3910617 , -0.05466885,\n",
       "        0.16810697,  0.23384601, -0.32364297, -0.22731312,  0.22434531,\n",
       "       -0.00487665,  0.37061128, -0.307455  ,  0.05424581, -0.22425742,\n",
       "       -0.15716942,  0.12873228,  0.29979274,  0.03596328,  0.5811386 ,\n",
       "       -0.44563204,  0.25302857,  0.3757638 ,  0.15110123,  0.11149783,\n",
       "        0.52794856,  0.21963711,  0.2655616 ,  0.32242322, -0.18703079,\n",
       "        0.08136745,  0.6511643 , -0.13849817, -0.04274722, -0.4424369 ,\n",
       "        0.00422227, -0.32010916, -0.44442534, -0.27334902,  0.07545578,\n",
       "       -0.54469234,  0.10250057, -0.16789272, -0.17633137,  0.2030275 ,\n",
       "        0.6256619 , -0.34576347, -0.10988939, -0.1398858 ,  0.16527466,\n",
       "        0.54260105, -0.18959072,  0.51939756, -0.11746293, -0.18170038,\n",
       "       -0.32361162, -0.56582314,  0.02949471, -0.39243534,  0.27234605,\n",
       "       -0.25045183, -0.26763958,  0.29850706, -0.47435614,  0.3024087 ,\n",
       "       -0.13187027,  0.10365468,  0.20583306,  0.17582618,  0.4231814 ,\n",
       "       -0.19164175, -0.21547171, -0.10938403,  0.12920901,  0.7584811 ,\n",
       "        0.22074366, -0.04399285,  0.36839637, -0.04373676,  0.43867987,\n",
       "       -0.25364488, -0.14101166, -0.32938847, -0.38670218, -0.7171642 ,\n",
       "        0.14644152,  0.17726716,  0.20336317,  0.1926327 ,  0.3637953 ,\n",
       "        0.65738076,  0.7906479 ,  0.3336072 ,  0.04193461,  0.3680935 ,\n",
       "        0.41278335, -0.06655698,  0.17363162, -0.9224824 , -0.11882266,\n",
       "        0.20691705,  0.28967088, -0.5196426 , -0.467496  ,  0.6632302 ,\n",
       "        0.27593198, -0.46776554,  0.57262266,  0.24506675, -0.25791663,\n",
       "       -0.00266428,  0.25370932, -0.11717666,  0.3317581 ,  0.04330162,\n",
       "        0.4209128 ,  0.11136647, -0.1678289 ,  0.21564698, -0.5786996 ,\n",
       "        0.14151001,  0.27925706,  0.55049163,  0.08986156, -0.08621658,\n",
       "        0.75263786,  0.26415306,  0.29446667, -0.39660987,  0.40984264,\n",
       "        0.33780432,  0.15167238, -0.35075134,  0.22920407, -0.34279895,\n",
       "        0.34203517,  0.5770724 , -0.6691725 , -0.31287482, -0.23436432,\n",
       "       -0.05764179, -0.07525853, -0.23601434, -0.40528712,  0.06153578,\n",
       "        0.29684365,  0.2543116 , -0.39323756, -0.565321  , -0.53814626,\n",
       "       -0.13197437, -0.01720035,  0.00841708, -0.28353202, -0.02893068,\n",
       "       -0.253744  ,  0.28331593,  0.65446043, -0.3354996 , -0.3072261 ,\n",
       "        0.18109474,  0.37842968,  0.07891094,  0.2757986 ,  0.54660475,\n",
       "        0.2752313 ,  0.17190486, -0.01153317,  0.47178438, -0.1486683 ,\n",
       "        0.28701586, -0.18110093, -0.39773813,  0.47775912,  0.23806031,\n",
       "        0.05294905, -0.19845486, -0.60499066, -0.1535406 ,  0.0071467 ,\n",
       "       -0.14849867, -0.00599346,  0.08169052, -0.31784964,  0.05915415,\n",
       "        0.19768146, -0.3078959 ,  0.24031278, -0.11169509,  0.55194116,\n",
       "        0.6671937 ,  0.2358695 , -0.14269444, -0.03025614, -0.21362008,\n",
       "       -0.20704143,  0.23530681, -0.27094954,  0.1420346 , -0.32753688,\n",
       "       -0.39749733,  0.41303983, -0.07147943, -0.3450223 , -0.6955568 ],\n",
       "      dtype=float32)"
      ]
     },
     "execution_count": 314,
     "metadata": {},
     "output_type": "execute_result"
    }
   ],
   "source": [
    "regressors[0]\n",
    "\n",
    "# below is the embedding for  the words=['course', 'song']\n",
    "\n",
    "# its 300 length array  we can use Logistic Regression for trainig Algorithm\n"
   ]
  },
  {
   "cell_type": "code",
   "execution_count": 317,
   "metadata": {},
   "outputs": [
    {
     "name": "stderr",
     "output_type": "stream",
     "text": [
      "c:\\users\\insakum46\\appdata\\local\\programs\\python\\python37\\lib\\site-packages\\sklearn\\linear_model\\logistic.py:432: FutureWarning: Default solver will be changed to 'lbfgs' in 0.22. Specify a solver to silence this warning.\n",
      "  FutureWarning)\n",
      "c:\\users\\insakum46\\appdata\\local\\programs\\python\\python37\\lib\\site-packages\\sklearn\\linear_model\\logistic.py:469: FutureWarning: Default multi_class will be changed to 'auto' in 0.22. Specify the multi_class option to silence this warning.\n",
      "  \"this warning.\", FutureWarning)\n"
     ]
    }
   ],
   "source": [
    "from sklearn.linear_model import LogisticRegression\n",
    "\n",
    "X_train = regressors[:100]\n",
    "y_train = targets[:100]\n",
    "\n",
    "X_test = regressors[101:200]\n",
    "\n",
    "logreg = LogisticRegression(n_jobs=1, C=1e5)\n",
    "logreg.fit(X_train, y_train)\n",
    "y_pred = logreg.predict(X_test)"
   ]
  },
  {
   "cell_type": "code",
   "execution_count": 318,
   "metadata": {},
   "outputs": [
    {
     "data": {
      "text/plain": [
       "array(['ENTERTAINMENT', 'POLITICS', 'ENTERTAINMENT', 'ENTERTAINMENT',\n",
       "       'POLITICS', 'ENTERTAINMENT', 'POLITICS', 'POLITICS',\n",
       "       'ENTERTAINMENT', 'ENTERTAINMENT', 'POLITICS', 'POLITICS',\n",
       "       'POLITICS', 'ENTERTAINMENT', 'POLITICS', 'POLITICS', 'POLITICS',\n",
       "       'POLITICS', 'POLITICS', 'ENTERTAINMENT', 'POLITICS',\n",
       "       'ENTERTAINMENT', 'ENTERTAINMENT', 'ENTERTAINMENT', 'ENTERTAINMENT',\n",
       "       'POLITICS', 'ENTERTAINMENT', 'ENTERTAINMENT', 'POLITICS',\n",
       "       'ENTERTAINMENT', 'POLITICS', 'POLITICS', 'POLITICS',\n",
       "       'ENTERTAINMENT', 'ENTERTAINMENT', 'POLITICS', 'ENTERTAINMENT',\n",
       "       'ENTERTAINMENT', 'POLITICS', 'ENTERTAINMENT', 'ENTERTAINMENT',\n",
       "       'ENTERTAINMENT', 'POLITICS', 'ENTERTAINMENT', 'POLITICS',\n",
       "       'POLITICS', 'POLITICS', 'POLITICS', 'ENTERTAINMENT', 'POLITICS',\n",
       "       'POLITICS', 'POLITICS', 'POLITICS', 'POLITICS', 'ENTERTAINMENT',\n",
       "       'ENTERTAINMENT', 'POLITICS', 'ENTERTAINMENT', 'POLITICS',\n",
       "       'ENTERTAINMENT', 'ENTERTAINMENT', 'POLITICS', 'POLITICS',\n",
       "       'ENTERTAINMENT', 'ENTERTAINMENT', 'ENTERTAINMENT', 'POLITICS',\n",
       "       'POLITICS', 'ENTERTAINMENT', 'ENTERTAINMENT', 'ENTERTAINMENT',\n",
       "       'ENTERTAINMENT', 'ENTERTAINMENT', 'POLITICS', 'ENTERTAINMENT',\n",
       "       'ENTERTAINMENT', 'POLITICS', 'POLITICS', 'ENTERTAINMENT',\n",
       "       'ENTERTAINMENT', 'POLITICS', 'POLITICS', 'POLITICS',\n",
       "       'ENTERTAINMENT', 'ENTERTAINMENT', 'ENTERTAINMENT', 'POLITICS',\n",
       "       'ENTERTAINMENT', 'ENTERTAINMENT', 'ENTERTAINMENT', 'POLITICS',\n",
       "       'POLITICS', 'POLITICS', 'ENTERTAINMENT', 'ENTERTAINMENT',\n",
       "       'ENTERTAINMENT', 'POLITICS', 'POLITICS', 'ENTERTAINMENT'],\n",
       "      dtype='<U13')"
      ]
     },
     "execution_count": 318,
     "metadata": {},
     "output_type": "execute_result"
    }
   ],
   "source": [
    "y_pred"
   ]
  },
  {
   "cell_type": "code",
   "execution_count": 328,
   "metadata": {},
   "outputs": [
    {
     "data": {
      "text/html": [
       "<div>\n",
       "<style scoped>\n",
       "    .dataframe tbody tr th:only-of-type {\n",
       "        vertical-align: middle;\n",
       "    }\n",
       "\n",
       "    .dataframe tbody tr th {\n",
       "        vertical-align: top;\n",
       "    }\n",
       "\n",
       "    .dataframe thead th {\n",
       "        text-align: right;\n",
       "    }\n",
       "</style>\n",
       "<table border=\"1\" class=\"dataframe\">\n",
       "  <thead>\n",
       "    <tr style=\"text-align: right;\">\n",
       "      <th></th>\n",
       "      <th>Predicted</th>\n",
       "      <th>Y_test</th>\n",
       "    </tr>\n",
       "  </thead>\n",
       "  <tbody>\n",
       "    <tr>\n",
       "      <td>0</td>\n",
       "      <td>ENTERTAINMENT</td>\n",
       "      <td>ENTERTAINMENT</td>\n",
       "    </tr>\n",
       "    <tr>\n",
       "      <td>1</td>\n",
       "      <td>POLITICS</td>\n",
       "      <td>ENTERTAINMENT</td>\n",
       "    </tr>\n",
       "    <tr>\n",
       "      <td>2</td>\n",
       "      <td>ENTERTAINMENT</td>\n",
       "      <td>POLITICS</td>\n",
       "    </tr>\n",
       "    <tr>\n",
       "      <td>3</td>\n",
       "      <td>ENTERTAINMENT</td>\n",
       "      <td>POLITICS</td>\n",
       "    </tr>\n",
       "    <tr>\n",
       "      <td>4</td>\n",
       "      <td>POLITICS</td>\n",
       "      <td>POLITICS</td>\n",
       "    </tr>\n",
       "    <tr>\n",
       "      <td>...</td>\n",
       "      <td>...</td>\n",
       "      <td>...</td>\n",
       "    </tr>\n",
       "    <tr>\n",
       "      <td>94</td>\n",
       "      <td>ENTERTAINMENT</td>\n",
       "      <td>POLITICS</td>\n",
       "    </tr>\n",
       "    <tr>\n",
       "      <td>95</td>\n",
       "      <td>ENTERTAINMENT</td>\n",
       "      <td>POLITICS</td>\n",
       "    </tr>\n",
       "    <tr>\n",
       "      <td>96</td>\n",
       "      <td>POLITICS</td>\n",
       "      <td>ENTERTAINMENT</td>\n",
       "    </tr>\n",
       "    <tr>\n",
       "      <td>97</td>\n",
       "      <td>POLITICS</td>\n",
       "      <td>POLITICS</td>\n",
       "    </tr>\n",
       "    <tr>\n",
       "      <td>98</td>\n",
       "      <td>ENTERTAINMENT</td>\n",
       "      <td>POLITICS</td>\n",
       "    </tr>\n",
       "  </tbody>\n",
       "</table>\n",
       "<p>99 rows × 2 columns</p>\n",
       "</div>"
      ],
      "text/plain": [
       "       Predicted         Y_test \n",
       "0   ENTERTAINMENT  ENTERTAINMENT\n",
       "1        POLITICS  ENTERTAINMENT\n",
       "2   ENTERTAINMENT       POLITICS\n",
       "3   ENTERTAINMENT       POLITICS\n",
       "4        POLITICS       POLITICS\n",
       "..            ...            ...\n",
       "94  ENTERTAINMENT       POLITICS\n",
       "95  ENTERTAINMENT       POLITICS\n",
       "96       POLITICS  ENTERTAINMENT\n",
       "97       POLITICS       POLITICS\n",
       "98  ENTERTAINMENT       POLITICS\n",
       "\n",
       "[99 rows x 2 columns]"
      ]
     },
     "execution_count": 328,
     "metadata": {},
     "output_type": "execute_result"
    }
   ],
   "source": [
    "pd.DataFrame({\"Predicted \":list(y_pred),\"Y_test \": y_test})"
   ]
  },
  {
   "cell_type": "code",
   "execution_count": null,
   "metadata": {},
   "outputs": [],
   "source": []
  }
 ],
 "metadata": {
  "kernelspec": {
   "display_name": "Python 3",
   "language": "python",
   "name": "python3"
  },
  "language_info": {
   "codemirror_mode": {
    "name": "ipython",
    "version": 3
   },
   "file_extension": ".py",
   "mimetype": "text/x-python",
   "name": "python",
   "nbconvert_exporter": "python",
   "pygments_lexer": "ipython3",
   "version": "3.7.4"
  }
 },
 "nbformat": 4,
 "nbformat_minor": 2
}
