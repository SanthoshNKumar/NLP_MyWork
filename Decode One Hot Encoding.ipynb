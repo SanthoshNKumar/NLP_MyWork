{
 "cells": [
  {
   "cell_type": "code",
   "execution_count": 16,
   "metadata": {},
   "outputs": [],
   "source": [
    "# Step1 : Get the Data\n",
    "\n",
    "# Step2 : Generate Vocabulary for the document\n",
    "\n",
    "# Step3 : Generate (Word 2 Interger) and (Integer 2 Word) encoded Dict\n",
    "\n",
    "# Step4 : Get Integer encoded token list\n",
    "\n",
    "# Step5 : Padding the Sequence\n",
    "\n",
    "# Step6 : Convert list og Integer tokens to One Hot Encoding\n",
    "\n",
    "# Step7 : use argmax to Identidy the index of the values in the array of list\n",
    "\n",
    "# Step8 : Remove the zero which is padded with the value\n",
    "\n",
    "# Step9 : Decode the Interger to word using int2Word Dict"
   ]
  },
  {
   "cell_type": "code",
   "execution_count": 1,
   "metadata": {},
   "outputs": [],
   "source": [
    "with open(\"C:\\MyWork\\MyLearning\\Career Growth\\ML\\Files\\DataSet\\eng_text.txt\", \"r\", encoding=\"utf-8\") as f:\n",
    "    lines = f.read().split(\"\\n\")"
   ]
  },
  {
   "cell_type": "code",
   "execution_count": 2,
   "metadata": {},
   "outputs": [
    {
     "name": "stdout",
     "output_type": "stream",
     "text": [
      "[['go'], ['go'], ['go'], ['go'], ['hi'], ['run'], ['run'], ['run'], ['run'], ['run'], ['who'], ['wow'], ['fire'], ['fire'], ['fire'], ['help'], ['help'], ['help'], ['jump'], ['jump'], ['stop'], ['stop'], ['stop'], ['wait'], ['wait'], ['wait'], ['wait'], ['go', 'on'], ['go', 'on'], ['hello'], ['hurry'], ['hurry'], ['hurry'], ['i', 'hid'], ['i', 'hid'], ['i', 'hid'], ['i', 'hid'], ['i', 'ran'], ['i', 'ran'], ['i', 'try'], ['i', 'won'], ['oh', 'no'], ['relax'], ['shoot'], ['shoot'], ['shoot'], ['shoot'], ['shoot'], ['shoot'], ['smile']]\n"
     ]
    }
   ],
   "source": [
    "tokens = [[word for word in document.split()] for document in lines][:50]\n",
    "\n",
    "print(tokens)"
   ]
  },
  {
   "cell_type": "code",
   "execution_count": 4,
   "metadata": {},
   "outputs": [
    {
     "name": "stdout",
     "output_type": "stream",
     "text": [
      "23\n"
     ]
    }
   ],
   "source": [
    "vocab = list(set([x for y in tokens for x in y]))\n",
    "\n",
    "vocab_size = len(vocab)\n",
    "\n",
    "print(vocab_size)"
   ]
  },
  {
   "cell_type": "code",
   "execution_count": 5,
   "metadata": {},
   "outputs": [
    {
     "data": {
      "text/plain": [
       "['relax', 'on', 'try', 'wow', 'wait', 'hello', 'fire', 'hid', 'help', 'run']"
      ]
     },
     "execution_count": 5,
     "metadata": {},
     "output_type": "execute_result"
    }
   ],
   "source": [
    "vocab[:10]"
   ]
  },
  {
   "cell_type": "code",
   "execution_count": 6,
   "metadata": {},
   "outputs": [],
   "source": [
    "word2Id = dict(((x,y) for y,x in enumerate(vocab))) # word to Integer conversion\n",
    "id2word = dict(((y,x) for y,x in enumerate(vocab))) # Interger to Word Conversion"
   ]
  },
  {
   "cell_type": "code",
   "execution_count": 7,
   "metadata": {},
   "outputs": [
    {
     "name": "stdout",
     "output_type": "stream",
     "text": [
      "[[17], [17], [17], [17], [21], [9], [9], [9], [9], [9], [14], [3], [6], [6], [6], [8], [8], [8], [22], [22], [13], [13], [13], [4], [4], [4], [4], [17, 1], [17, 1], [5], [19], [19], [19], [18, 7], [18, 7], [18, 7], [18, 7], [18, 20], [18, 20], [18, 2], [18, 10], [15, 16], [0], [11], [11], [11], [11], [11], [11], [12]]\n"
     ]
    }
   ],
   "source": [
    "int_encoded_tokens = [[word2Id[y] for y in x] for x in tokens]\n",
    "\n",
    "print(int_encoded_tokens)"
   ]
  },
  {
   "cell_type": "code",
   "execution_count": 8,
   "metadata": {},
   "outputs": [
    {
     "name": "stdout",
     "output_type": "stream",
     "text": [
      "[[ 0 17]\n",
      " [ 0 17]\n",
      " [ 0 17]\n",
      " [ 0 17]\n",
      " [ 0 21]\n",
      " [ 0  9]\n",
      " [ 0  9]\n",
      " [ 0  9]\n",
      " [ 0  9]\n",
      " [ 0  9]]\n"
     ]
    }
   ],
   "source": [
    "from tensorflow.keras.preprocessing.sequence import pad_sequences\n",
    "\n",
    "padded_inputs = pad_sequences(int_encoded_tokens,padding='pre')\n",
    "\n",
    "print(padded_inputs[:10])"
   ]
  },
  {
   "cell_type": "code",
   "execution_count": 9,
   "metadata": {},
   "outputs": [
    {
     "name": "stderr",
     "output_type": "stream",
     "text": [
      "Using TensorFlow backend.\n"
     ]
    },
    {
     "data": {
      "text/plain": [
       "array([[1., 0., 0., 0., 0., 0., 0., 0., 0., 0., 0., 0., 0., 0., 0., 0.,\n",
       "        0., 0., 0., 0., 0., 0., 0.],\n",
       "       [0., 0., 0., 0., 0., 0., 0., 0., 0., 0., 0., 0., 0., 0., 0., 0.,\n",
       "        0., 1., 0., 0., 0., 0., 0.]], dtype=float32)"
      ]
     },
     "execution_count": 9,
     "metadata": {},
     "output_type": "execute_result"
    }
   ],
   "source": [
    "# One Hot enccoding Conversion\n",
    "from keras.utils import to_categorical\n",
    "\n",
    "oneHot_encoded_tokens = to_categorical(padded_inputs)\n",
    "\n",
    "oneHot_encoded_tokens[0]"
   ]
  },
  {
   "cell_type": "code",
   "execution_count": 11,
   "metadata": {},
   "outputs": [
    {
     "name": "stdout",
     "output_type": "stream",
     "text": [
      "[[0, 17], [0, 17], [0, 17], [0, 17], [0, 21], [0, 9], [0, 9], [0, 9], [0, 9], [0, 9], [0, 14], [0, 3], [0, 6], [0, 6], [0, 6], [0, 8], [0, 8], [0, 8], [0, 22], [0, 22], [0, 13], [0, 13], [0, 13], [0, 4], [0, 4], [0, 4], [0, 4], [17, 1], [17, 1], [0, 5], [0, 19], [0, 19], [0, 19], [18, 7], [18, 7], [18, 7], [18, 7], [18, 20], [18, 20], [18, 2], [18, 10], [15, 16], [0, 0], [0, 11], [0, 11], [0, 11], [0, 11], [0, 11], [0, 11], [0, 12]]\n"
     ]
    }
   ],
   "source": [
    "from numpy import argmax\n",
    "\n",
    "# using argmax function using get the index of the value which are 1\n",
    "decoded_one_hot = [[argmax(aa) for aa in array] for array in oneHot_encoded_tokens]\n",
    "\n",
    "print(decoded_one_hot)"
   ]
  },
  {
   "cell_type": "code",
   "execution_count": 14,
   "metadata": {},
   "outputs": [
    {
     "name": "stdout",
     "output_type": "stream",
     "text": [
      "[[17], [17], [17], [17], [21], [9], [9], [9], [9], [9], [14], [3], [6], [6], [6], [8], [8], [8], [22], [22], [13], [13], [13], [4], [4], [4], [4], [17, 1], [17, 1], [5], [19], [19], [19], [18, 7], [18, 7], [18, 7], [18, 7], [18, 20], [18, 20], [18, 2], [18, 10], [15, 16], [], [11], [11], [11], [11], [11], [11], [12]]\n"
     ]
    }
   ],
   "source": [
    "# Remove the zeros\n",
    "onehot_2_int = [[y for y in x if y !=0] for x in decoded_one_hot]\n",
    "\n",
    "print(onehot_2_int)"
   ]
  },
  {
   "cell_type": "code",
   "execution_count": 15,
   "metadata": {},
   "outputs": [
    {
     "name": "stdout",
     "output_type": "stream",
     "text": [
      "[['go'], ['go'], ['go'], ['go'], ['hi'], ['run'], ['run'], ['run'], ['run'], ['run'], ['who'], ['wow'], ['fire'], ['fire'], ['fire'], ['help'], ['help'], ['help'], ['jump'], ['jump'], ['stop'], ['stop'], ['stop'], ['wait'], ['wait'], ['wait'], ['wait'], ['go', 'on'], ['go', 'on'], ['hello'], ['hurry'], ['hurry'], ['hurry'], ['i', 'hid'], ['i', 'hid'], ['i', 'hid'], ['i', 'hid'], ['i', 'ran'], ['i', 'ran'], ['i', 'try'], ['i', 'won'], ['oh', 'no'], [], ['shoot'], ['shoot'], ['shoot'], ['shoot'], ['shoot'], ['shoot'], ['smile']]\n"
     ]
    }
   ],
   "source": [
    "# Decode the tokens Interger to word conversion\n",
    "\n",
    "decoded_tokens = [[id2word[y] for y in x] for x in onehot_2_int]\n",
    "\n",
    "print(decoded_tokens)"
   ]
  }
 ],
 "metadata": {
  "kernelspec": {
   "display_name": "Python 3",
   "language": "python",
   "name": "python3"
  },
  "language_info": {
   "codemirror_mode": {
    "name": "ipython",
    "version": 3
   },
   "file_extension": ".py",
   "mimetype": "text/x-python",
   "name": "python",
   "nbconvert_exporter": "python",
   "pygments_lexer": "ipython3",
   "version": "3.7.4"
  }
 },
 "nbformat": 4,
 "nbformat_minor": 2
}
