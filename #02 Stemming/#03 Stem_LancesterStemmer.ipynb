{
 "cells": [
  {
   "cell_type": "code",
   "execution_count": 2,
   "metadata": {},
   "outputs": [],
   "source": [
    "# Suffixes are droped biger than Porter .'us', 'e','th','eral','ered'"
   ]
  },
  {
   "cell_type": "code",
   "execution_count": 3,
   "metadata": {},
   "outputs": [
    {
     "name": "stdout",
     "output_type": "stream",
     "text": [
      "['My', 'name', 'is', 'maximum', 'Decimus', 'Meridius', '.', 'Commander', 'of', 'the', 'Armier', 'of', 'the', 'North', ',', 'General', 'of', 'the', 'Felix', 'Legions', 'and', 'loyal', 'servant', 'to', 'the', 'true', 'emperor', ',', 'Mercus', 'Aurelius', '.', 'Father', 'to', 'a', 'murdered', 'son', '.', 'husband', 'to', 'a', 'murdered', 'wife', '.', 'And', 'I', 'will', 'have', 'my', 'vengeance', ',', 'in', 'this'] \n",
      "\n",
      "\n",
      "my name is maximum decimus meridius. commander of the armier of the north, general of the felix legions and loyal servant to the true emperor, mercus aurelius. \n",
      "father to a murdered son. husband to a murdered wife. \n",
      "and i will have my vengeance, in this\n"
     ]
    }
   ],
   "source": [
    "from nltk.stem import LancasterStemmer\n",
    "from nltk.tokenize import word_tokenize\n",
    "\n",
    "text = \"My name is maximum Decimus Meridius. Commander of the Armier of the North, General of the Felix Legions and loyal servant to the true emperor, Mercus Aurelius. \\nFather to a murdered son. husband to a murdered wife. \\nAnd I will have my vengeance, in this\"\n",
    "\n",
    "token = [v for v in word_tokenize(text)]\n",
    "\n",
    "print(token,\"\\n\\n\")\n",
    "\n",
    "print(LancasterStemmer().stem(text))\n"
   ]
  },
  {
   "cell_type": "code",
   "execution_count": null,
   "metadata": {},
   "outputs": [],
   "source": []
  }
 ],
 "metadata": {
  "kernelspec": {
   "display_name": "Python 3",
   "language": "python",
   "name": "python3"
  },
  "language_info": {
   "codemirror_mode": {
    "name": "ipython",
    "version": 3
   },
   "file_extension": ".py",
   "mimetype": "text/x-python",
   "name": "python",
   "nbconvert_exporter": "python",
   "pygments_lexer": "ipython3",
   "version": "3.7.4"
  }
 },
 "nbformat": 4,
 "nbformat_minor": 2
}
